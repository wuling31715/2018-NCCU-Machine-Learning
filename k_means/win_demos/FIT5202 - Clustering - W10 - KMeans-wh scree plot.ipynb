{
 "cells": [
  {
   "cell_type": "code",
   "execution_count": 1,
   "metadata": {},
   "outputs": [],
   "source": [
    "from pyspark import SparkContext\n",
    "from pyspark.sql.session import SparkSession\n",
    "from matplotlib import pyplot as plt\n",
    "from pyspark.ml.feature import StringIndexer\n",
    "from pyspark.ml import Pipeline\n",
    "from pyspark.ml.feature import VectorAssembler\n",
    "\n",
    "sc = SparkContext.getOrCreate()\n",
    "\n",
    "if (sc is None):\n",
    "    sc = SparkContext(master=\"local[*]\", appName=\"KMeans Clustering\")\n",
    "spark = SparkSession(sparkContext=sc)\n",
    "\n",
    "data_frame = spark.read.csv('iris.csv', header=True, inferSchema=True)                        \n"
   ]
  },
  {
   "cell_type": "code",
   "execution_count": 2,
   "metadata": {},
   "outputs": [],
   "source": [
    "cols = ['sepal_length', 'sepal_width', 'petal_length', 'petal_width']\n",
    "assembler = VectorAssembler(inputCols=cols, outputCol='features')\n",
    "assembled_data = assembler.transform(data_frame)\n",
    "\n",
    "drop_list = ['sepal_length', 'sepal_width', 'petal_length', 'petal_width', 'species']\n",
    "assembled_data = assembled_data.select([column for column in assembled_data.columns if column not in drop_list])\n"
   ]
  },
  {
   "cell_type": "code",
   "execution_count": 3,
   "metadata": {},
   "outputs": [],
   "source": [
    "from pyspark.ml.feature import VectorIndexer\n",
    "\n",
    "featureIndexer = VectorIndexer(inputCol=\"features\", \\\n",
    "                    outputCol = \"indexedFeatures\",\\\n",
    "                    maxCategories=4).fit(assembled_data)\n",
    "\n",
    "data = featureIndexer.transform(assembled_data)"
   ]
  },
  {
   "cell_type": "markdown",
   "metadata": {},
   "source": [
    "\n"
   ]
  },
  {
   "cell_type": "code",
   "execution_count": null,
   "metadata": {},
   "outputs": [],
   "source": [
    "import numpy as np\n",
    "from matplotlib.ticker import MaxNLocator\n",
    "from pyspark.ml.clustering import KMeans\n",
    "\n",
    "cost = np.zeros(20)\n",
    "\n",
    "for k in range (2,20):\n",
    "    kmeans = KMeans()\\\n",
    "    .setK(k)\\\n",
    "    .setSeed(1)\\\n",
    "    .setFeaturesCol(\"indexedFeatures\")\\\n",
    "    .setPredictionCol(\"cluster\")\n",
    "    model = kmeans.fit(data)\n",
    "    cost[k] = model.computeCost(data) #sum of squared distances of data points to their nearest centre\n",
    "    print(cost[k])\n",
    "\n",
    "fig, ax = plt.subplots()\n",
    "ax.plot(range(2,20), cost[2:20])\n",
    "ax.set_xlabel('k')\n",
    "ax.set_ylabel('cost')\n",
    "ax.xaxis.set_major_locator(MaxNLocator(integer=True))\n",
    "plt.show"
   ]
  },
  {
   "cell_type": "code",
   "execution_count": null,
   "metadata": {},
   "outputs": [],
   "source": [
    "#using set number of k for clustering\n",
    "\n",
    "kmeans = KMeans()\\\n",
    "        .setK(3)\\\n",
    "        .setFeaturesCol(\"indexedFeatures\")\\\n",
    "        .setPredictionCol(\"cluster\")\n",
    "    \n",
    "pipeline = Pipeline(stages=[featureIndexer, kmeans])\n",
    "model = pipeline.fit(assembled_data)\n",
    "cluster = model.transform(assembled_data)\n",
    "cluster.groupBy('cluster').count().show()"
   ]
  }
 ],
 "metadata": {
  "kernelspec": {
   "display_name": "Python 3",
   "language": "python",
   "name": "python3"
  },
  "language_info": {
   "codemirror_mode": {
    "name": "ipython",
    "version": 3
   },
   "file_extension": ".py",
   "mimetype": "text/x-python",
   "name": "python",
   "nbconvert_exporter": "python",
   "pygments_lexer": "ipython3",
   "version": "3.6.8"
  }
 },
 "nbformat": 4,
 "nbformat_minor": 2
}
