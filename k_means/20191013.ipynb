{
 "cells": [
  {
   "cell_type": "code",
   "execution_count": 1,
   "metadata": {},
   "outputs": [],
   "source": [
    "from matplotlib import pyplot as plt\n",
    "import numpy as np"
   ]
  },
  {
   "cell_type": "code",
   "execution_count": 2,
   "metadata": {},
   "outputs": [
    {
     "data": {
      "image/png": "[encoded data removed]",
      "text/plain": [
       "<Figure size 432x288 with 1 Axes>"
      ]
     },
     "metadata": {
      "needs_background": "light"
     },
     "output_type": "display_data"
    }
   ],
   "source": [
    "A = np.asarray([1.0, 1.5, 3.0, 5.0, 3.5, 4.5, 3.5])\n",
    "B = np.asarray([1.0, 2.0, 4.0, 7.0, 5.0, 5.0, 4.5])\n",
    "plt.plot(A, B)\n",
    "plt.show()"
   ]
  },
  {
   "cell_type": "code",
   "execution_count": 3,
   "metadata": {},
   "outputs": [
    {
     "name": "stdout",
     "output_type": "stream",
     "text": [
      "[[1.  1. ]\n",
      " [1.5 2. ]\n",
      " [3.  4. ]\n",
      " [5.  7. ]\n",
      " [3.5 5. ]\n",
      " [4.5 5. ]\n",
      " [3.5 4.5]]\n"
     ]
    }
   ],
   "source": [
    "C = list()\n",
    "for i, j in zip(A, B):\n",
    "    C.append([i, j])\n",
    "C = np.asarray(C)\n",
    "print(C)"
   ]
  },
  {
   "cell_type": "code",
   "execution_count": 4,
   "metadata": {},
   "outputs": [],
   "source": [
    "def euclidean_distance_measure(x1, x2, y1, y2):\n",
    "    return ((x1 - x2) ** 2 + (y1 - y2) ** 2) ** 0.5"
   ]
  },
  {
   "cell_type": "code",
   "execution_count": 5,
   "metadata": {},
   "outputs": [
    {
     "data": {
      "text/plain": [
       "5.0"
      ]
     },
     "execution_count": 5,
     "metadata": {},
     "output_type": "execute_result"
    }
   ],
   "source": [
    "euclidean_distance_measure(0, 3, 0, 4)"
   ]
  },
  {
   "cell_type": "code",
   "execution_count": 6,
   "metadata": {},
   "outputs": [
    {
     "name": "stdout",
     "output_type": "stream",
     "text": [
      "[1. 1.] [1.5 2. ]\n",
      "[1. 1.] [3. 4.]\n",
      "[1. 1.] [5. 7.]\n",
      "[1. 1.] [3.5 5. ]\n",
      "[1. 1.] [4.5 5. ]\n",
      "[1. 1.] [3.5 4.5]\n",
      "[1.5 2. ] [3. 4.]\n",
      "[1.5 2. ] [5. 7.]\n",
      "[1.5 2. ] [3.5 5. ]\n",
      "[1.5 2. ] [4.5 5. ]\n",
      "[1.5 2. ] [3.5 4.5]\n",
      "[3. 4.] [5. 7.]\n",
      "[3. 4.] [3.5 5. ]\n",
      "[3. 4.] [4.5 5. ]\n",
      "[3. 4.] [3.5 4.5]\n",
      "[5. 7.] [3.5 5. ]\n",
      "[5. 7.] [4.5 5. ]\n",
      "[5. 7.] [3.5 4.5]\n",
      "[3.5 5. ] [4.5 5. ]\n",
      "[3.5 5. ] [3.5 4.5]\n",
      "[4.5 5. ] [3.5 4.5]\n"
     ]
    }
   ],
   "source": [
    "for index, value in enumerate(C):\n",
    "    for value2 in C[index+1:]:\n",
    "        print(value, value2)"
   ]
  },
  {
   "cell_type": "code",
   "execution_count": 7,
   "metadata": {},
   "outputs": [],
   "source": [
    "distance_list = list()\n",
    "for index, value in enumerate(C):\n",
    "    for index2, value2 in enumerate(C[index+1:]):\n",
    "        distance_list.append([euclidean_distance_measure(value[0], value2[0], value[1], value2[1]),\n",
    "                              index, (index+index2+1),\n",
    "                              value, value2])"
   ]
  },
  {
   "cell_type": "code",
   "execution_count": 8,
   "metadata": {},
   "outputs": [
    {
     "data": {
      "text/plain": [
       "[7.211102550927978, 0, 3, array([1., 1.]), array([5., 7.])]"
      ]
     },
     "execution_count": 8,
     "metadata": {},
     "output_type": "execute_result"
    }
   ],
   "source": [
    "max(distance_list)"
   ]
  },
  {
   "cell_type": "code",
   "execution_count": 9,
   "metadata": {},
   "outputs": [],
   "source": [
    "def mean_vector(X, Y):\n",
    "    x_sum = 0\n",
    "    y_sum = 0\n",
    "    for x, y in zip(X,Y):\n",
    "        x_sum += x\n",
    "        y_sum += y\n",
    "    x_mean = x_sum / len(X)\n",
    "    y_mean = y_sum / len(Y)\n",
    "    return x_mean, y_mean"
   ]
  },
  {
   "cell_type": "code",
   "execution_count": 10,
   "metadata": {},
   "outputs": [
    {
     "data": {
      "text/plain": [
       "(3.142857142857143, 4.071428571428571)"
      ]
     },
     "execution_count": 10,
     "metadata": {},
     "output_type": "execute_result"
    }
   ],
   "source": [
    "mean_vector(A, B)"
   ]
  },
  {
   "cell_type": "code",
   "execution_count": 11,
   "metadata": {},
   "outputs": [],
   "source": [
    "def plot(A, B):\n",
    "    centroid = mean_vector(A, B)\n",
    "    print('centroid: (%.1f, %.1f)' % centroid)\n",
    "    centroid_x = centroid[0]\n",
    "    centroid_y = centroid[1]\n",
    "    plt.plot(A, B)\n",
    "    plt.scatter(centroid_x, centroid_y, color='red')\n",
    "    plt.show()"
   ]
  },
  {
   "cell_type": "code",
   "execution_count": 12,
   "metadata": {},
   "outputs": [
    {
     "name": "stdout",
     "output_type": "stream",
     "text": [
      "centroid: (3.1, 4.1)\n"
     ]
    },
    {
     "data": {
      "image/png": "[encoded data removed]",
      "text/plain": [
       "<Figure size 432x288 with 1 Axes>"
      ]
     },
     "metadata": {
      "needs_background": "light"
     },
     "output_type": "display_data"
    }
   ],
   "source": [
    "plot(A, B)"
   ]
  },
  {
   "cell_type": "code",
   "execution_count": 13,
   "metadata": {},
   "outputs": [
    {
     "name": "stdout",
     "output_type": "stream",
     "text": [
      "centroid: (1.8, 2.3)\n"
     ]
    },
    {
     "data": {
      "image/png": "[encoded data removed]",
      "text/plain": [
       "<Figure size 432x288 with 1 Axes>"
      ]
     },
     "metadata": {
      "needs_background": "light"
     },
     "output_type": "display_data"
    }
   ],
   "source": [
    "plot(A[:3], B[:3])"
   ]
  },
  {
   "cell_type": "code",
   "execution_count": 14,
   "metadata": {},
   "outputs": [
    {
     "name": "stdout",
     "output_type": "stream",
     "text": [
      "centroid: (4.1, 5.4)\n"
     ]
    },
    {
     "data": {
      "image/png": "[encoded data removed]",
      "text/plain": [
       "<Figure size 432x288 with 1 Axes>"
      ]
     },
     "metadata": {
      "needs_background": "light"
     },
     "output_type": "display_data"
    }
   ],
   "source": [
    "plot(A[3:], B[3:])"
   ]
  },
  {
   "cell_type": "code",
   "execution_count": 15,
   "metadata": {},
   "outputs": [
    {
     "name": "stdout",
     "output_type": "stream",
     "text": [
      "1.5\n",
      "0.4\n",
      "2.1\n",
      "5.7\n",
      "3.2\n",
      "3.8\n",
      "2.8\n"
     ]
    }
   ],
   "source": [
    "cluster1_distance_list = list()\n",
    "for a, b in C:\n",
    "    distance = euclidean_distance_measure(a, 1.8, b, 2.3)\n",
    "    print('%.1f' % distance)\n",
    "    cluster1_distance_list.append(distance)"
   ]
  },
  {
   "cell_type": "code",
   "execution_count": 16,
   "metadata": {},
   "outputs": [
    {
     "name": "stdout",
     "output_type": "stream",
     "text": [
      "5.4\n",
      "4.3\n",
      "1.8\n",
      "1.8\n",
      "0.7\n",
      "0.6\n",
      "1.1\n"
     ]
    }
   ],
   "source": [
    "cluster2_distance_list = list()\n",
    "for a, b in C:\n",
    "    distance = euclidean_distance_measure(a, 4.1, b, 5.4)\n",
    "    print('%.1f' % distance)\n",
    "    cluster2_distance_list.append(distance)"
   ]
  },
  {
   "cell_type": "code",
   "execution_count": 17,
   "metadata": {},
   "outputs": [
    {
     "name": "stdout",
     "output_type": "stream",
     "text": [
      "1 is closer to cluster1.\n",
      "2 is closer to cluster1.\n",
      "3 is closer to cluster2.\n",
      "4 is closer to cluster2.\n",
      "5 is closer to cluster2.\n",
      "6 is closer to cluster2.\n",
      "7 is closer to cluster2.\n"
     ]
    }
   ],
   "source": [
    "for i, j, k in zip(range(len(cluster1_distance_list)), cluster1_distance_list, cluster2_distance_list):    \n",
    "    if j < k:\n",
    "        print('%d is closer to cluster1.' % (i+1))\n",
    "    else:\n",
    "        print('%d is closer to cluster2.' % (i+1))"
   ]
  },
  {
   "cell_type": "code",
   "execution_count": 18,
   "metadata": {},
   "outputs": [
    {
     "name": "stdout",
     "output_type": "stream",
     "text": [
      "centroid: (2.6, 3.5)\n"
     ]
    },
    {
     "data": {
      "image/png": "[encoded data removed]",
      "text/plain": [
       "<Figure size 432x288 with 1 Axes>"
      ]
     },
     "metadata": {
      "needs_background": "light"
     },
     "output_type": "display_data"
    }
   ],
   "source": [
    "plot(A[:4], B[:4])"
   ]
  },
  {
   "cell_type": "code",
   "execution_count": 19,
   "metadata": {},
   "outputs": [
    {
     "name": "stdout",
     "output_type": "stream",
     "text": [
      "centroid: (3.8, 4.8)\n"
     ]
    },
    {
     "data": {
      "image/png": "[encoded data removed]",
      "text/plain": [
       "<Figure size 432x288 with 1 Axes>"
      ]
     },
     "metadata": {
      "needs_background": "light"
     },
     "output_type": "display_data"
    }
   ],
   "source": [
    "plot(A[4:], B[4:])"
   ]
  },
  {
   "cell_type": "code",
   "execution_count": null,
   "metadata": {},
   "outputs": [],
   "source": []
  }
 ],
 "metadata": {
  "kernelspec": {
   "display_name": "Python 3",
   "language": "python",
   "name": "python3"
  },
  "language_info": {
   "codemirror_mode": {
    "name": "ipython",
    "version": 3
   },
   "file_extension": ".py",
   "mimetype": "text/x-python",
   "name": "python",
   "nbconvert_exporter": "python",
   "pygments_lexer": "ipython3",
   "version": "3.6.8"
  }
 },
 "nbformat": 4,
 "nbformat_minor": 2
}
