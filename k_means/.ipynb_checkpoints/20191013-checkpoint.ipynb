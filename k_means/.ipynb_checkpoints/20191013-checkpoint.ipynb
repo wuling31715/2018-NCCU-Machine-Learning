{
 "cells": [
  {
   "cell_type": "code",
   "execution_count": 2,
   "metadata": {},
   "outputs": [],
   "source": [
    "from matplotlib import pyplot as plt\n",
    "import numpy as np"
   ]
  },
  {
   "cell_type": "code",
   "execution_count": 50,
   "metadata": {},
   "outputs": [
    {
     "data": {
      "image/png": "[encoded data removed]",
      "text/plain": [
       "<Figure size 432x288 with 1 Axes>"
      ]
     },
     "metadata": {
      "needs_background": "light"
     },
     "output_type": "display_data"
    }
   ],
   "source": [
    "A = np.asarray([1.0, 1.5, 3.0, 5.0, 3.5, 4.5, 3.5])\n",
    "B = np.asarray([1.0, 2.0, 4.0, 7.0, 5.0, 5.0, 4.5])\n",
    "plt.plot(A, B)\n",
    "plt.show()"
   ]
  },
  {
   "cell_type": "code",
   "execution_count": 51,
   "metadata": {},
   "outputs": [],
   "source": [
    "C = list()\n",
    "for i, j in zip(A, B):\n",
    "    C.append([i, j])\n",
    "C = np.asarray(C)"
   ]
  },
  {
   "cell_type": "code",
   "execution_count": 56,
   "metadata": {},
   "outputs": [],
   "source": [
    "def euclidean_distance_measure(x1, x2, y1, y2):\n",
    "    return ((x1 - x2) ** 2 + (y1 - y2) ** 2) ** 0.5"
   ]
  },
  {
   "cell_type": "code",
   "execution_count": 57,
   "metadata": {},
   "outputs": [
    {
     "data": {
      "text/plain": [
       "5.0"
      ]
     },
     "execution_count": 57,
     "metadata": {},
     "output_type": "execute_result"
    }
   ],
   "source": [
    "euclidean_distance_measure(0, 3, 0, 4)"
   ]
  },
  {
   "cell_type": "code",
   "execution_count": 58,
   "metadata": {},
   "outputs": [
    {
     "name": "stdout",
     "output_type": "stream",
     "text": [
      "[1. 1.] [1.5 2. ]\n",
      "[1. 1.] [3. 4.]\n",
      "[1. 1.] [5. 7.]\n",
      "[1. 1.] [3.5 5. ]\n",
      "[1. 1.] [4.5 5. ]\n",
      "[1. 1.] [3.5 4.5]\n",
      "[1.5 2. ] [3. 4.]\n",
      "[1.5 2. ] [5. 7.]\n",
      "[1.5 2. ] [3.5 5. ]\n",
      "[1.5 2. ] [4.5 5. ]\n",
      "[1.5 2. ] [3.5 4.5]\n",
      "[3. 4.] [5. 7.]\n",
      "[3. 4.] [3.5 5. ]\n",
      "[3. 4.] [4.5 5. ]\n",
      "[3. 4.] [3.5 4.5]\n",
      "[5. 7.] [3.5 5. ]\n",
      "[5. 7.] [4.5 5. ]\n",
      "[5. 7.] [3.5 4.5]\n",
      "[3.5 5. ] [4.5 5. ]\n",
      "[3.5 5. ] [3.5 4.5]\n",
      "[4.5 5. ] [3.5 4.5]\n"
     ]
    }
   ],
   "source": [
    "for index, value in enumerate(C):\n",
    "    for value2 in C[index+1:]:\n",
    "        print(value, value2)"
   ]
  },
  {
   "cell_type": "code",
   "execution_count": 70,
   "metadata": {},
   "outputs": [],
   "source": [
    "distance_list = list()\n",
    "for index, value in enumerate(C):\n",
    "    for index2, value2 in enumerate(C[index+1:]):\n",
    "        distance_list.append([euclidean_distance_measure(value[0], value2[0], value[1], value2[1]),\n",
    "                              index, (index+index2+1),\n",
    "                              value, value2])"
   ]
  },
  {
   "cell_type": "code",
   "execution_count": 71,
   "metadata": {},
   "outputs": [
    {
     "data": {
      "text/plain": [
       "[7.211102550927978, 0, 3, array([1., 1.]), array([5., 7.])]"
      ]
     },
     "execution_count": 71,
     "metadata": {},
     "output_type": "execute_result"
    }
   ],
   "source": [
    "max(distance_list)"
   ]
  },
  {
   "cell_type": "code",
   "execution_count": 73,
   "metadata": {},
   "outputs": [],
   "source": [
    "def mean_vector(X, Y):\n",
    "    x_sum = 0\n",
    "    y_sum = 0\n",
    "    for x, y in zip(X,Y):\n",
    "        x_sum += x\n",
    "        y_sum += y\n",
    "    x_mean = x_sum / len(X)\n",
    "    y_mean = y_sum / len(Y)\n",
    "    return x_mean, y_mean"
   ]
  },
  {
   "cell_type": "code",
   "execution_count": 75,
   "metadata": {},
   "outputs": [
    {
     "data": {
      "text/plain": [
       "(3.142857142857143, 4.071428571428571)"
      ]
     },
     "execution_count": 75,
     "metadata": {},
     "output_type": "execute_result"
    }
   ],
   "source": [
    "mean_vector(A, B)"
   ]
  },
  {
   "cell_type": "code",
   "execution_count": 84,
   "metadata": {},
   "outputs": [
    {
     "data": {
      "image/png": "[encoded data removed]",
      "text/plain": [
       "<Figure size 432x288 with 1 Axes>"
      ]
     },
     "metadata": {
      "needs_background": "light"
     },
     "output_type": "display_data"
    }
   ],
   "source": [
    "plt.plot(A, B)\n",
    "plt.scatter(mean_vector(A, B)[0], mean_vector(A, B)[1], color='red')\n",
    "plt.show()"
   ]
  },
  {
   "cell_type": "code",
   "execution_count": null,
   "metadata": {},
   "outputs": [],
   "source": []
  }
 ],
 "metadata": {
  "kernelspec": {
   "display_name": "Python 3",
   "language": "python",
   "name": "python3"
  },
  "language_info": {
   "codemirror_mode": {
    "name": "ipython",
    "version": 3
   },
   "file_extension": ".py",
   "mimetype": "text/x-python",
   "name": "python",
   "nbconvert_exporter": "python",
   "pygments_lexer": "ipython3",
   "version": "3.6.8"
  }
 },
 "nbformat": 4,
 "nbformat_minor": 2
}
