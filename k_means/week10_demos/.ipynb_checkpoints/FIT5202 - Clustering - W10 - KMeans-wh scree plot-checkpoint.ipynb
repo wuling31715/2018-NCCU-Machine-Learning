{
 "cells": [
  {
   "cell_type": "code",
   "execution_count": 1,
   "metadata": {},
   "outputs": [],
   "source": [
    "from pyspark import SparkContext\n",
    "from pyspark.sql.session import SparkSession\n",
    "from matplotlib import pyplot as plt\n",
    "from pyspark.ml.feature import StringIndexer\n",
    "from pyspark.ml import Pipeline\n",
    "from pyspark.ml.feature import VectorAssembler\n",
    "\n",
    "sc = SparkContext.getOrCreate()\n",
    "\n",
    "if (sc is None):\n",
    "    sc = SparkContext(master=\"local[*]\", appName=\"KMeans Clustering\")\n",
    "spark = SparkSession(sparkContext=sc)\n",
    "\n",
    "data_frame = spark.read.csv('iris.csv', header=True, inferSchema=True)                        \n"
   ]
  },
  {
   "cell_type": "code",
   "execution_count": 2,
   "metadata": {},
   "outputs": [],
   "source": [
    "cols = ['sepal_length', 'sepal_width', 'petal_length', 'petal_width']\n",
    "assembler = VectorAssembler(inputCols=cols, outputCol='features')\n",
    "assembled_data = assembler.transform(data_frame)\n",
    "\n",
    "drop_list = ['sepal_length', 'sepal_width', 'petal_length', 'petal_width', 'species']\n",
    "assembled_data = assembled_data.select([column for column in assembled_data.columns if column not in drop_list])\n"
   ]
  },
  {
   "cell_type": "code",
   "execution_count": 3,
   "metadata": {},
   "outputs": [],
   "source": [
    "from pyspark.ml.feature import VectorIndexer\n",
    "\n",
    "featureIndexer = VectorIndexer(inputCol=\"features\", \\\n",
    "                    outputCol = \"indexedFeatures\",\\\n",
    "                    maxCategories=4).fit(assembled_data)\n",
    "\n",
    "data = featureIndexer.transform(assembled_data)"
   ]
  },
  {
   "cell_type": "markdown",
   "metadata": {},
   "source": [
    "\n"
   ]
  },
  {
   "cell_type": "code",
   "execution_count": 4,
   "metadata": {},
   "outputs": [
    {
     "name": "stdout",
     "output_type": "stream",
     "text": [
      "152.36870647734008\n",
      "78.94506582597637\n",
      "57.34540931571787\n",
      "46.78210000000013\n",
      "42.02656666666704\n",
      "37.076060073259924\n",
      "39.203163888889904\n",
      "29.04192757807506\n",
      "26.802080998389656\n",
      "26.249766929126324\n",
      "24.46204570427321\n",
      "24.289992287125344\n",
      "21.420680555555776\n",
      "20.039809523810206\n",
      "20.20471950271874\n",
      "17.68330952381048\n",
      "17.652515079365287\n",
      "16.108970238096248\n"
     ]
    },
    {
     "data": {
      "text/plain": [
       "<function matplotlib.pyplot.show>"
      ]
     },
     "execution_count": 4,
     "metadata": {},
     "output_type": "execute_result"
    },
    {
     "data": {
      "image/png": "[encoded data removed]",
      "text/plain": [
       "<Figure size 432x288 with 1 Axes>"
      ]
     },
     "metadata": {
      "needs_background": "light"
     },
     "output_type": "display_data"
    }
   ],
   "source": [
    "import numpy as np\n",
    "from matplotlib.ticker import MaxNLocator\n",
    "from pyspark.ml.clustering import KMeans\n",
    "\n",
    "cost = np.zeros(20)\n",
    "\n",
    "for k in range (2,20):\n",
    "    kmeans = KMeans()\\\n",
    "    .setK(k)\\\n",
    "    .setSeed(1)\\\n",
    "    .setFeaturesCol(\"indexedFeatures\")\\\n",
    "    .setPredictionCol(\"cluster\")\n",
    "    model = kmeans.fit(data)\n",
    "    cost[k] = model.computeCost(data) #sum of squared distances of data points to their nearest centre\n",
    "    print(cost[k])\n",
    "\n",
    "fig, ax = plt.subplots()\n",
    "ax.plot(range(2,20), cost[2:20])\n",
    "ax.set_xlabel('k')\n",
    "ax.set_ylabel('cost')\n",
    "ax.xaxis.set_major_locator(MaxNLocator(integer=True))\n",
    "plt.show"
   ]
  },
  {
   "cell_type": "code",
   "execution_count": 5,
   "metadata": {},
   "outputs": [
    {
     "name": "stdout",
     "output_type": "stream",
     "text": [
      "+-------+-----+\n",
      "|cluster|count|\n",
      "+-------+-----+\n",
      "|      1|   50|\n",
      "|      2|   38|\n",
      "|      0|   62|\n",
      "+-------+-----+\n",
      "\n"
     ]
    }
   ],
   "source": [
    "#using set number of k for clustering\n",
    "\n",
    "kmeans = KMeans()\\\n",
    "        .setK(3)\\\n",
    "        .setFeaturesCol(\"indexedFeatures\")\\\n",
    "        .setPredictionCol(\"cluster\")\n",
    "    \n",
    "pipeline = Pipeline(stages=[featureIndexer, kmeans])\n",
    "model = pipeline.fit(assembled_data)\n",
    "cluster = model.transform(assembled_data)\n",
    "cluster.groupBy('cluster').count().show()"
   ]
  }
 ],
 "metadata": {
  "kernelspec": {
   "display_name": "Python 3",
   "language": "python",
   "name": "python3"
  },
  "language_info": {
   "codemirror_mode": {
    "name": "ipython",
    "version": 3
   },
   "file_extension": ".py",
   "mimetype": "text/x-python",
   "name": "python",
   "nbconvert_exporter": "python",
   "pygments_lexer": "ipython3",
   "version": "3.6.8"
  }
 },
 "nbformat": 4,
 "nbformat_minor": 2
}
