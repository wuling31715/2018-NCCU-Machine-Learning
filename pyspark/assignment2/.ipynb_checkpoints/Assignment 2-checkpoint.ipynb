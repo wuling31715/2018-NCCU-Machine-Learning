{
 "cells": [
  {
   "cell_type": "markdown",
   "metadata": {},
   "source": [
    "# Assignment 2"
   ]
  },
  {
   "cell_type": "markdown",
   "metadata": {},
   "source": [
    "### Python Version: 3.6\n",
    "* conda create --name py3.6 python=3.6\n",
    "* source activate py3.6\n",
    "* python -V"
   ]
  },
  {
   "cell_type": "markdown",
   "metadata": {},
   "source": [
    "### Java Version:  8\n",
    "* brew cask install adoptopenjdk/openjdk/adoptopenjdk8\n",
    "* open ~/.bash_profile\n",
    "* export JAVA_HOME=$(/usr/libexec/java_home -v 1.8)\n",
    "* java -version"
   ]
  },
  {
   "cell_type": "markdown",
   "metadata": {},
   "source": [
    "## Step 01: Import Spark Session and initialize Spark"
   ]
  },
  {
   "cell_type": "code",
   "execution_count": 1,
   "metadata": {},
   "outputs": [],
   "source": [
    "import pyspark\n",
    "from pyspark.sql import SparkSession"
   ]
  },
  {
   "cell_type": "code",
   "execution_count": 2,
   "metadata": {},
   "outputs": [],
   "source": [
    "spark = SparkSession.builder.master(\"local\").appName(\"Weather Forecast\").getOrCreate()"
   ]
  },
  {
   "cell_type": "markdown",
   "metadata": {},
   "source": [
    "## Step 02: Load the dataset and print the schema and total number of entries"
   ]
  },
  {
   "cell_type": "code",
   "execution_count": 3,
   "metadata": {},
   "outputs": [],
   "source": [
    "df = spark.read.csv('weatherAUS.csv', header=True)"
   ]
  },
  {
   "cell_type": "code",
   "execution_count": 4,
   "metadata": {},
   "outputs": [
    {
     "name": "stdout",
     "output_type": "stream",
     "text": [
      "+-------+----------+--------+------------------+------------------+------------------+-----------------+------------------+-----------+------------------+----------+----------+-----------------+-----------------+------------------+------------------+------------------+------------------+------------------+-----------------+-----------------+------------------+---------+------------+\n",
      "|summary|      Date|Location|           MinTemp|           MaxTemp|          Rainfall|      Evaporation|          Sunshine|WindGustDir|     WindGustSpeed|WindDir9am|WindDir3pm|     WindSpeed9am|     WindSpeed3pm|       Humidity9am|       Humidity3pm|       Pressure9am|       Pressure3pm|          Cloud9am|         Cloud3pm|          Temp9am|           Temp3pm|RainToday|RainTomorrow|\n",
      "+-------+----------+--------+------------------+------------------+------------------+-----------------+------------------+-----------+------------------+----------+----------+-----------------+-----------------+------------------+------------------+------------------+------------------+------------------+-----------------+-----------------+------------------+---------+------------+\n",
      "|  count|    142193|  142193|            142193|            142193|            142193|           142193|            142193|     142193|            142193|    142193|    142193|           142193|           142193|            142193|            142193|            142193|            142193|            142193|           142193|           142193|            142193|   142193|      142193|\n",
      "|   mean|      null|    null|12.186399728729098|23.226784191272444|2.3499740743111954|5.469824216349123| 7.624853113193571|       null| 39.98429165757619|      null|      null|  14.001988000994|18.63757586179718|  68.8438103105705|51.482606091656265|1017.6537584159781| 1015.258203537907| 4.437189391885787|4.503166899728551|16.98750858170133| 21.68723497314744|     null|        null|\n",
      "| stddev|      null|    null| 6.403282674671314| 7.117618141018136| 8.465172917616425|4.188536508895149|3.7815249942144615|       null|13.588800765487752|      null|      null|8.893337098234603|8.803345036235537|19.051292535336177| 20.79777184369888| 7.105475711520505|7.0366767834928545|2.8870155257335974|2.720632530403652|6.492838325478915|6.9375938685337335|     null|        null|\n",
      "|    min|2007-11-01|Adelaide|              -0.1|              -0.1|                 0|                0|                 0|          E|               100|         E|         E|                0|                0|                 0|                 0|          1.00E+03|          1.00E+03|                 0|                0|             -0.1|              -0.1|       NA|          No|\n",
      "|    max|2017-06-25| Woomera|                NA|                NA|                NA|               NA|                NA|        WSW|                NA|       WSW|       WSW|               NA|               NA|                NA|                NA|                NA|                NA|                NA|               NA|               NA|                NA|      Yes|         Yes|\n",
      "+-------+----------+--------+------------------+------------------+------------------+-----------------+------------------+-----------+------------------+----------+----------+-----------------+-----------------+------------------+------------------+------------------+------------------+------------------+-----------------+-----------------+------------------+---------+------------+\n",
      "\n"
     ]
    }
   ],
   "source": [
    "df.describe().show()"
   ]
  },
  {
   "cell_type": "code",
   "execution_count": 5,
   "metadata": {},
   "outputs": [],
   "source": [
    "df = spark.read.csv('weatherAUS.csv', header=True)"
   ]
  },
  {
   "cell_type": "code",
   "execution_count": 6,
   "metadata": {},
   "outputs": [
    {
     "name": "stdout",
     "output_type": "stream",
     "text": [
      "root\n",
      " |-- Date: string (nullable = true)\n",
      " |-- Location: string (nullable = true)\n",
      " |-- MinTemp: string (nullable = true)\n",
      " |-- MaxTemp: string (nullable = true)\n",
      " |-- Rainfall: string (nullable = true)\n",
      " |-- Evaporation: string (nullable = true)\n",
      " |-- Sunshine: string (nullable = true)\n",
      " |-- WindGustDir: string (nullable = true)\n",
      " |-- WindGustSpeed: string (nullable = true)\n",
      " |-- WindDir9am: string (nullable = true)\n",
      " |-- WindDir3pm: string (nullable = true)\n",
      " |-- WindSpeed9am: string (nullable = true)\n",
      " |-- WindSpeed3pm: string (nullable = true)\n",
      " |-- Humidity9am: string (nullable = true)\n",
      " |-- Humidity3pm: string (nullable = true)\n",
      " |-- Pressure9am: string (nullable = true)\n",
      " |-- Pressure3pm: string (nullable = true)\n",
      " |-- Cloud9am: string (nullable = true)\n",
      " |-- Cloud3pm: string (nullable = true)\n",
      " |-- Temp9am: string (nullable = true)\n",
      " |-- Temp3pm: string (nullable = true)\n",
      " |-- RainToday: string (nullable = true)\n",
      " |-- RainTomorrow: string (nullable = true)\n",
      "\n"
     ]
    }
   ],
   "source": [
    "df.printSchema()"
   ]
  },
  {
   "cell_type": "code",
   "execution_count": 7,
   "metadata": {},
   "outputs": [
    {
     "data": {
      "text/plain": [
       "142193"
      ]
     },
     "execution_count": 7,
     "metadata": {},
     "output_type": "execute_result"
    }
   ],
   "source": [
    "df.count()"
   ]
  },
  {
   "cell_type": "markdown",
   "metadata": {},
   "source": [
    "## Step 03: Delete columns from the dataset"
   ]
  },
  {
   "cell_type": "code",
   "execution_count": 8,
   "metadata": {},
   "outputs": [
    {
     "name": "stdout",
     "output_type": "stream",
     "text": [
      "root\n",
      " |-- MinTemp: string (nullable = true)\n",
      " |-- MaxTemp: string (nullable = true)\n",
      " |-- Rainfall: string (nullable = true)\n",
      " |-- WindGustDir: string (nullable = true)\n",
      " |-- WindGustSpeed: string (nullable = true)\n",
      " |-- WindDir9am: string (nullable = true)\n",
      " |-- WindDir3pm: string (nullable = true)\n",
      " |-- WindSpeed9am: string (nullable = true)\n",
      " |-- WindSpeed3pm: string (nullable = true)\n",
      " |-- Humidity9am: string (nullable = true)\n",
      " |-- Humidity3pm: string (nullable = true)\n",
      " |-- Pressure9am: string (nullable = true)\n",
      " |-- Pressure3pm: string (nullable = true)\n",
      " |-- RainToday: string (nullable = true)\n",
      " |-- RainTomorrow: string (nullable = true)\n",
      "\n"
     ]
    }
   ],
   "source": [
    "df = df.drop('Date', 'Location', 'Evaporation', 'Sunshine', 'Cloud9am', 'Cloud3pm', 'Temp9am', 'Temp3pm')\n",
    "df.printSchema()"
   ]
  },
  {
   "cell_type": "markdown",
   "metadata": {},
   "source": [
    "## Step 04: Print the number of missing data in each column."
   ]
  },
  {
   "cell_type": "code",
   "execution_count": 9,
   "metadata": {},
   "outputs": [
    {
     "name": "stdout",
     "output_type": "stream",
     "text": [
      "+-------+-------+--------+-----------+-------------+----------+----------+------------+------------+-----------+-----------+-----------+-----------+---------+------------+\n",
      "|MinTemp|MaxTemp|Rainfall|WindGustDir|WindGustSpeed|WindDir9am|WindDir3pm|WindSpeed9am|WindSpeed3pm|Humidity9am|Humidity3pm|Pressure9am|Pressure3pm|RainToday|RainTomorrow|\n",
      "+-------+-------+--------+-----------+-------------+----------+----------+------------+------------+-----------+-----------+-----------+-----------+---------+------------+\n",
      "|    637|    322|    1406|       9330|         9270|     10013|      3778|        1348|        2630|       1774|       3610|      14014|      13981|     1406|           0|\n",
      "+-------+-------+--------+-----------+-------------+----------+----------+------------+------------+-----------+-----------+-----------+-----------+---------+------------+\n",
      "\n"
     ]
    }
   ],
   "source": [
    "from pyspark.sql.functions import col, sum\n",
    "\n",
    "df.select(*(sum(col(c).isin('NA').cast(\"int\")).alias(c) for c in df.columns)).show()"
   ]
  },
  {
   "cell_type": "markdown",
   "metadata": {},
   "source": [
    "## Step 05: Fill the missing data with average value and maximum occurrence value."
   ]
  },
  {
   "cell_type": "code",
   "execution_count": 11,
   "metadata": {},
   "outputs": [],
   "source": [
    "def get_count(row):\n",
    "    return row[1]\n",
    "\n",
    "def get_mode(column):    \n",
    "    row = df.groupby(df[column]).count().collect()\n",
    "    mode = max(row, key=get_count)\n",
    "    return mode[0]"
   ]
  },
  {
   "cell_type": "code",
   "execution_count": 12,
   "metadata": {},
   "outputs": [
    {
     "name": "stdout",
     "output_type": "stream",
     "text": [
      "+-------+-------+------------------+-----------+-------------+----------+----------+---------------+------------+-----------+-----------+-----------+-----------+---------+------------+\n",
      "|MinTemp|MaxTemp|          Rainfall|WindGustDir|WindGustSpeed|WindDir9am|WindDir3pm|   WindSpeed9am|WindSpeed3pm|Humidity9am|Humidity3pm|Pressure9am|Pressure3pm|RainToday|RainTomorrow|\n",
      "+-------+-------+------------------+-----------+-------------+----------+----------+---------------+------------+-----------+-----------+-----------+-----------+---------+------------+\n",
      "|   13.4|   22.9|               0.6|          W|           44|         W|       WNW|             20|          24|         71|         22|     1007.7|     1007.1|       No|          No|\n",
      "|    7.4|   25.1|                 0|        WNW|           44|       NNW|       WSW|              4|          22|         44|         25|     1010.6|     1007.8|       No|          No|\n",
      "|   12.9|   25.7|                 0|        WSW|           46|         W|       WSW|             19|          26|         38|         30|     1007.6|     1008.7|       No|          No|\n",
      "|    9.2|     28|                 0|         NE|           24|        SE|         E|             11|           9|         45|         16|     1017.6|     1012.8|       No|          No|\n",
      "|   17.5|   32.3|                 1|          W|           41|       ENE|        NW|              7|          20|         82|         33|     1010.8|       1006|       No|          No|\n",
      "|   14.6|   29.7|               0.2|        WNW|           56|         W|         W|             19|          24|         55|         23|     1009.2|     1005.4|       No|          No|\n",
      "|   14.3|     25|                 0|          W|           50|        SW|         W|             20|          24|         49|         19|     1009.6|     1008.2|       No|          No|\n",
      "|    7.7|   26.7|                 0|          W|           35|       SSE|         W|              6|          17|         48|         19|     1013.4|     1010.1|       No|          No|\n",
      "|    9.7|   31.9|                 0|        NNW|           80|        SE|        NW|              7|          28|         42|          9|     1008.9|     1003.6|       No|         Yes|\n",
      "|   13.1|   30.1|               1.4|          W|           28|         S|       SSE|             15|          11|         58|         27|       1007|     1005.7|      Yes|          No|\n",
      "|   13.4|   30.4|                 0|          N|           30|       SSE|       ESE|             17|           6|         48|         22|     1011.8|     1008.7|       No|         Yes|\n",
      "|   15.9|   21.7|               2.2|        NNE|           31|        NE|       ENE|             15|          13|         89|         91|     1010.5|     1004.2|      Yes|         Yes|\n",
      "|   15.9|   18.6|              15.6|          W|           61|       NNW|       NNW|             28|          28|         76|         93|      994.3|        993|      Yes|         Yes|\n",
      "|   12.6|     21|               3.6|         SW|           44|         W|       SSW|             24|          20|         65|         43|     1001.2|     1001.8|      Yes|          No|\n",
      "|    9.8|   27.7|2.3499740743111954|        WNW|           50|         N|       WNW|14.001988000994|          22|         50|         28|     1013.4|     1010.3|       No|          No|\n",
      "|   14.1|   20.9|                 0|        ENE|           22|       SSW|         E|             11|           9|         69|         82|     1012.2|     1010.4|       No|         Yes|\n",
      "|   13.5|   22.9|              16.8|          W|           63|         N|       WNW|              6|          20|         80|         65|     1005.8|     1002.2|      Yes|         Yes|\n",
      "|   11.2|   22.5|              10.6|        SSE|           43|       WSW|        SW|             24|          17|         47|         32|     1009.4|     1009.7|      Yes|          No|\n",
      "|    9.8|   25.6|                 0|        SSE|           26|        SE|       NNW|             17|           6|         45|         26|     1019.2|     1017.1|       No|          No|\n",
      "|   11.5|   29.3|                 0|          S|           24|        SE|        SE|              9|           9|         56|         28|     1019.3|     1014.8|       No|          No|\n",
      "+-------+-------+------------------+-----------+-------------+----------+----------+---------------+------------+-----------+-----------+-----------+-----------+---------+------------+\n",
      "only showing top 20 rows\n",
      "\n"
     ]
    }
   ],
   "source": [
    "from pyspark.sql.functions import when, avg\n",
    "\n",
    "df = df\\\n",
    ".withColumn('MinTemp', when(df.MinTemp=='NA', df.agg(avg('MinTemp')).collect()[0][0]).otherwise(df.MinTemp))\\\n",
    ".withColumn('MaxTemp', when(df.MaxTemp=='NA', df.agg(avg('MaxTemp')).collect()[0][0]).otherwise(df.MaxTemp))\\\n",
    ".withColumn('Rainfall', when(df.Rainfall=='NA', df.agg(avg('Rainfall')).collect()[0][0]).otherwise(df.Rainfall))\\\n",
    ".withColumn('WindGustSpeed', when(df.WindGustSpeed=='NA', df.agg(avg('WindGustSpeed')).collect()[0][0]).otherwise(df.WindGustSpeed))\\\n",
    ".withColumn('WindSpeed9am', when(df.WindSpeed9am=='NA', df.agg(avg('WindSpeed9am')).collect()[0][0]).otherwise(df.WindSpeed9am))\\\n",
    ".withColumn('WindSpeed3pm', when(df.WindSpeed3pm=='NA', df.agg(avg('WindSpeed3pm')).collect()[0][0]).otherwise(df.WindSpeed3pm))\\\n",
    ".withColumn('Humidity9am', when(df.Humidity9am=='NA', df.agg(avg('Humidity9am')).collect()[0][0]).otherwise(df.Humidity9am))\\\n",
    ".withColumn('Humidity3pm', when(df.Humidity3pm=='NA', df.agg(avg('Humidity3pm')).collect()[0][0]).otherwise(df.Humidity3pm))\\\n",
    ".withColumn('Pressure9am', when(df.Pressure9am=='NA', df.agg(avg('Pressure9am')).collect()[0][0]).otherwise(df.Pressure9am))\\\n",
    ".withColumn('Pressure3pm', when(df.Pressure3pm=='NA', df.agg(avg('Pressure3pm')).collect()[0][0]).otherwise(df.Pressure3pm))\\\n",
    ".withColumn('WindGustDir', when(df.WindGustDir=='NA', get_mode('WindGustDir')).otherwise(df.WindGustDir))\\\n",
    ".withColumn('WindDir9am', when(df.WindDir9am=='NA', get_mode('WindDir9am')).otherwise(df.WindDir9am))\\\n",
    ".withColumn('WindDir3pm', when(df.WindDir3pm=='NA', get_mode('WindDir3pm')).otherwise(df.WindDir3pm))\\\n",
    ".withColumn('RainToday', when(df.RainToday=='NA', get_mode('RainToday')).otherwise(df.RainToday))\\\n",
    ".withColumn('RainTomorrow', when(df.RainTomorrow=='NA', get_mode('RainTomorrow')).otherwise(df.RainTomorrow))\\\n",
    "\n",
    "df.show()"
   ]
  },
  {
   "cell_type": "markdown",
   "metadata": {},
   "source": [
    "## Step 06: Data transformation"
   ]
  },
  {
   "cell_type": "code",
   "execution_count": 13,
   "metadata": {},
   "outputs": [
    {
     "name": "stdout",
     "output_type": "stream",
     "text": [
      "root\n",
      " |-- MinTemp: string (nullable = true)\n",
      " |-- MaxTemp: string (nullable = true)\n",
      " |-- Rainfall: string (nullable = true)\n",
      " |-- WindGustDir: string (nullable = true)\n",
      " |-- WindGustSpeed: string (nullable = true)\n",
      " |-- WindDir9am: string (nullable = true)\n",
      " |-- WindDir3pm: string (nullable = true)\n",
      " |-- WindSpeed9am: string (nullable = true)\n",
      " |-- WindSpeed3pm: string (nullable = true)\n",
      " |-- Humidity9am: string (nullable = true)\n",
      " |-- Humidity3pm: string (nullable = true)\n",
      " |-- Pressure9am: string (nullable = true)\n",
      " |-- Pressure3pm: string (nullable = true)\n",
      " |-- RainToday: string (nullable = true)\n",
      " |-- RainTomorrow: string (nullable = true)\n",
      "\n"
     ]
    }
   ],
   "source": [
    "schema_list = df.schema.names\n",
    "df.printSchema()"
   ]
  },
  {
   "cell_type": "code",
   "execution_count": 14,
   "metadata": {},
   "outputs": [],
   "source": [
    "from pyspark.sql.types import DoubleType\n",
    "\n",
    "df = df\\\n",
    ".withColumn('MinTemp', df['MinTemp'].cast(DoubleType()))\\\n",
    ".withColumn('MaxTemp', df['MaxTemp'].cast(DoubleType()))\\\n",
    ".withColumn('Rainfall', df['Rainfall'].cast(DoubleType()))\\\n",
    ".withColumn('WindGustSpeed', df['WindGustSpeed'].cast(DoubleType()))\\\n",
    ".withColumn('WindSpeed9am', df['WindSpeed9am'].cast(DoubleType()))\\\n",
    ".withColumn('WindSpeed3pm', df['WindSpeed3pm'].cast(DoubleType()))\\\n",
    ".withColumn('Humidity9am', df['Humidity9am'].cast(DoubleType()))\\\n",
    ".withColumn('Humidity3pm', df['Humidity3pm'].cast(DoubleType()))\\\n",
    ".withColumn('Pressure9am', df['Pressure9am'].cast(DoubleType()))\\\n",
    ".withColumn('Pressure3pm', df['Pressure3pm'].cast(DoubleType()))\\"
   ]
  },
  {
   "cell_type": "code",
   "execution_count": 15,
   "metadata": {},
   "outputs": [
    {
     "name": "stdout",
     "output_type": "stream",
     "text": [
      "+-------+-------+------------------+-----------+-------------+----------+----------+---------------+------------+-----------+-----------+-----------+-----------+---------+------------+----------------+---------------+---------------+--------------+-----------------+\n",
      "|MinTemp|MaxTemp|          Rainfall|WindGustDir|WindGustSpeed|WindDir9am|WindDir3pm|   WindSpeed9am|WindSpeed3pm|Humidity9am|Humidity3pm|Pressure9am|Pressure3pm|RainToday|RainTomorrow|WindGustDirIndex|WindDir9amIndex|WindDir3pmIndex|RainTodayIndex|RainTomorrowIndex|\n",
      "+-------+-------+------------------+-----------+-------------+----------+----------+---------------+------------+-----------+-----------+-----------+-----------+---------+------------+----------------+---------------+---------------+--------------+-----------------+\n",
      "|   13.4|   22.9|               0.6|        0.0|         44.0|       6.0|       7.0|           20.0|        24.0|       71.0|       22.0|     1007.7|     1007.1|      0.0|         0.0|             0.0|            6.0|            7.0|           0.0|              0.0|\n",
      "|    7.4|   25.1|               0.0|        9.0|         44.0|       9.0|       3.0|            4.0|        22.0|       44.0|       25.0|     1010.6|     1007.8|      0.0|         0.0|             9.0|            9.0|            3.0|           0.0|              0.0|\n",
      "|   12.9|   25.7|               0.0|        6.0|         46.0|       6.0|       3.0|           19.0|        26.0|       38.0|       30.0|     1007.6|     1008.7|      0.0|         0.0|             6.0|            6.0|            3.0|           0.0|              0.0|\n",
      "|    9.2|   28.0|               0.0|       13.0|         24.0|       1.0|      10.0|           11.0|         9.0|       45.0|       16.0|     1017.6|     1012.8|      0.0|         0.0|            13.0|            1.0|           10.0|           0.0|              0.0|\n",
      "|   17.5|   32.3|               1.0|        0.0|         41.0|      10.0|       8.0|            7.0|        20.0|       82.0|       33.0|     1010.8|     1006.0|      0.0|         0.0|             0.0|           10.0|            8.0|           0.0|              0.0|\n",
      "|   14.6|   29.7|               0.2|        9.0|         56.0|       6.0|       1.0|           19.0|        24.0|       55.0|       23.0|     1009.2|     1005.4|      0.0|         0.0|             9.0|            6.0|            1.0|           0.0|              0.0|\n",
      "|   14.3|   25.0|               0.0|        0.0|         50.0|       7.0|       1.0|           20.0|        24.0|       49.0|       19.0|     1009.6|     1008.2|      0.0|         0.0|             0.0|            7.0|            1.0|           0.0|              0.0|\n",
      "|    7.7|   26.7|               0.0|        0.0|         35.0|       3.0|       1.0|            6.0|        17.0|       48.0|       19.0|     1013.4|     1010.1|      0.0|         0.0|             0.0|            3.0|            1.0|           0.0|              0.0|\n",
      "|    9.7|   31.9|               0.0|       14.0|         80.0|       1.0|       8.0|            7.0|        28.0|       42.0|        9.0|     1008.9|     1003.6|      0.0|         1.0|            14.0|            1.0|            8.0|           0.0|              1.0|\n",
      "|   13.1|   30.1|               1.4|        0.0|         28.0|       5.0|       5.0|           15.0|        11.0|       58.0|       27.0|     1007.0|     1005.7|      1.0|         0.0|             0.0|            5.0|            5.0|           1.0|              0.0|\n",
      "|   13.4|   30.4|               0.0|        3.0|         30.0|       3.0|       9.0|           17.0|         6.0|       48.0|       22.0|     1011.8|     1008.7|      0.0|         1.0|             3.0|            3.0|            9.0|           0.0|              1.0|\n",
      "|   15.9|   21.7|               2.2|       15.0|         31.0|      12.0|      14.0|           15.0|        13.0|       89.0|       91.0|     1010.5|     1004.2|      1.0|         1.0|            15.0|           12.0|           14.0|           1.0|              1.0|\n",
      "|   15.9|   18.6|              15.6|        0.0|         61.0|       9.0|      13.0|           28.0|        28.0|       76.0|       93.0|      994.3|      993.0|      1.0|         1.0|             0.0|            9.0|           13.0|           1.0|              1.0|\n",
      "|   12.6|   21.0|               3.6|        7.0|         44.0|       6.0|      12.0|           24.0|        20.0|       65.0|       43.0|     1001.2|     1001.8|      1.0|         0.0|             7.0|            6.0|           12.0|           1.0|              0.0|\n",
      "|    9.8|   27.7|2.3499740743111954|        9.0|         50.0|       0.0|       7.0|14.001988000994|        22.0|       50.0|       28.0|     1013.4|     1010.3|      0.0|         0.0|             9.0|            0.0|            7.0|           0.0|              0.0|\n",
      "|   14.1|   20.9|               0.0|       11.0|         22.0|      13.0|      10.0|           11.0|         9.0|       69.0|       82.0|     1012.2|     1010.4|      0.0|         1.0|            11.0|           13.0|           10.0|           0.0|              1.0|\n",
      "|   13.5|   22.9|              16.8|        0.0|         63.0|       0.0|       7.0|            6.0|        20.0|       80.0|       65.0|     1005.8|     1002.2|      1.0|         1.0|             0.0|            0.0|            7.0|           1.0|              1.0|\n",
      "|   11.2|   22.5|              10.6|        4.0|         43.0|      15.0|       4.0|           24.0|        17.0|       47.0|       32.0|     1009.4|     1009.7|      1.0|         0.0|             4.0|           15.0|            4.0|           1.0|              0.0|\n",
      "|    9.8|   25.6|               0.0|        4.0|         26.0|       1.0|      13.0|           17.0|         6.0|       45.0|       26.0|     1019.2|     1017.1|      0.0|         0.0|             4.0|            1.0|           13.0|           0.0|              0.0|\n",
      "|   11.5|   29.3|               0.0|        5.0|         24.0|       1.0|       0.0|            9.0|         9.0|       56.0|       28.0|     1019.3|     1014.8|      0.0|         0.0|             5.0|            1.0|            0.0|           0.0|              0.0|\n",
      "+-------+-------+------------------+-----------+-------------+----------+----------+---------------+------------+-----------+-----------+-----------+-----------+---------+------------+----------------+---------------+---------------+--------------+-----------------+\n",
      "only showing top 20 rows\n",
      "\n"
     ]
    }
   ],
   "source": [
    "from pyspark.ml.feature import StringIndexer\n",
    "\n",
    "df = StringIndexer(inputCol=\"WindGustDir\", outputCol=\"WindGustDirIndex\").fit(df).transform(df)\n",
    "df = StringIndexer(inputCol=\"WindDir9am\", outputCol=\"WindDir9amIndex\").fit(df).transform(df)\n",
    "df = StringIndexer(inputCol=\"WindDir3pm\", outputCol=\"WindDir3pmIndex\").fit(df).transform(df)\n",
    "df = StringIndexer(inputCol=\"RainToday\", outputCol=\"RainTodayIndex\").fit(df).transform(df)\n",
    "df = StringIndexer(inputCol=\"RainTomorrow\", outputCol=\"RainTomorrowIndex\").fit(df).transform(df)\n",
    "df = df.withColumn('WindGustDir', df['WindGustDirIndex'])\n",
    "df = df.withColumn('WindDir9am', df['WindDir9amIndex'])\n",
    "df = df.withColumn('WindDir3pm', df['WindDir3pmIndex'])\n",
    "df = df.withColumn('RainToday', df['RainTodayIndex'])\n",
    "df = df.withColumn('RainTomorrow', df['RainTomorrowIndex'])\n",
    "df.show()"
   ]
  },
  {
   "cell_type": "code",
   "execution_count": 16,
   "metadata": {},
   "outputs": [
    {
     "name": "stdout",
     "output_type": "stream",
     "text": [
      "root\n",
      " |-- MinTemp: double (nullable = true)\n",
      " |-- MaxTemp: double (nullable = true)\n",
      " |-- Rainfall: double (nullable = true)\n",
      " |-- WindGustDir: double (nullable = false)\n",
      " |-- WindGustSpeed: double (nullable = true)\n",
      " |-- WindDir9am: double (nullable = false)\n",
      " |-- WindDir3pm: double (nullable = false)\n",
      " |-- WindSpeed9am: double (nullable = true)\n",
      " |-- WindSpeed3pm: double (nullable = true)\n",
      " |-- Humidity9am: double (nullable = true)\n",
      " |-- Humidity3pm: double (nullable = true)\n",
      " |-- Pressure9am: double (nullable = true)\n",
      " |-- Pressure3pm: double (nullable = true)\n",
      " |-- RainToday: double (nullable = false)\n",
      " |-- RainTomorrow: double (nullable = false)\n",
      "\n"
     ]
    }
   ],
   "source": [
    "df = df.select(*schema_list)\n",
    "df.printSchema()"
   ]
  },
  {
   "cell_type": "markdown",
   "metadata": {},
   "source": [
    "## Step 07: Create the feature vector and divide the dataset"
   ]
  },
  {
   "cell_type": "code",
   "execution_count": 17,
   "metadata": {},
   "outputs": [
    {
     "name": "stdout",
     "output_type": "stream",
     "text": [
      "['MinTemp', 'MaxTemp', 'Rainfall', 'WindGustDir', 'WindGustSpeed', 'WindDir9am', 'WindDir3pm', 'WindSpeed9am', 'WindSpeed3pm', 'Humidity9am', 'Humidity3pm', 'Pressure9am', 'Pressure3pm', 'RainToday']\n",
      "+-------+-------+------------------+-----------+-------------+----------+----------+---------------+------------+-----------+-----------+-----------+-----------+---------+------------+--------------------+-----+\n",
      "|MinTemp|MaxTemp|          Rainfall|WindGustDir|WindGustSpeed|WindDir9am|WindDir3pm|   WindSpeed9am|WindSpeed3pm|Humidity9am|Humidity3pm|Pressure9am|Pressure3pm|RainToday|RainTomorrow|            features|label|\n",
      "+-------+-------+------------------+-----------+-------------+----------+----------+---------------+------------+-----------+-----------+-----------+-----------+---------+------------+--------------------+-----+\n",
      "|   13.4|   22.9|               0.6|        0.0|         44.0|       6.0|       7.0|           20.0|        24.0|       71.0|       22.0|     1007.7|     1007.1|      0.0|         0.0|[13.4,22.9,0.6,0....|  0.0|\n",
      "|    7.4|   25.1|               0.0|        9.0|         44.0|       9.0|       3.0|            4.0|        22.0|       44.0|       25.0|     1010.6|     1007.8|      0.0|         0.0|[7.4,25.1,0.0,9.0...|  0.0|\n",
      "|   12.9|   25.7|               0.0|        6.0|         46.0|       6.0|       3.0|           19.0|        26.0|       38.0|       30.0|     1007.6|     1008.7|      0.0|         0.0|[12.9,25.7,0.0,6....|  0.0|\n",
      "|    9.2|   28.0|               0.0|       13.0|         24.0|       1.0|      10.0|           11.0|         9.0|       45.0|       16.0|     1017.6|     1012.8|      0.0|         0.0|[9.2,28.0,0.0,13....|  0.0|\n",
      "|   17.5|   32.3|               1.0|        0.0|         41.0|      10.0|       8.0|            7.0|        20.0|       82.0|       33.0|     1010.8|     1006.0|      0.0|         0.0|[17.5,32.3,1.0,0....|  0.0|\n",
      "|   14.6|   29.7|               0.2|        9.0|         56.0|       6.0|       1.0|           19.0|        24.0|       55.0|       23.0|     1009.2|     1005.4|      0.0|         0.0|[14.6,29.7,0.2,9....|  0.0|\n",
      "|   14.3|   25.0|               0.0|        0.0|         50.0|       7.0|       1.0|           20.0|        24.0|       49.0|       19.0|     1009.6|     1008.2|      0.0|         0.0|[14.3,25.0,0.0,0....|  0.0|\n",
      "|    7.7|   26.7|               0.0|        0.0|         35.0|       3.0|       1.0|            6.0|        17.0|       48.0|       19.0|     1013.4|     1010.1|      0.0|         0.0|[7.7,26.7,0.0,0.0...|  0.0|\n",
      "|    9.7|   31.9|               0.0|       14.0|         80.0|       1.0|       8.0|            7.0|        28.0|       42.0|        9.0|     1008.9|     1003.6|      0.0|         1.0|[9.7,31.9,0.0,14....|  1.0|\n",
      "|   13.1|   30.1|               1.4|        0.0|         28.0|       5.0|       5.0|           15.0|        11.0|       58.0|       27.0|     1007.0|     1005.7|      1.0|         0.0|[13.1,30.1,1.4,0....|  0.0|\n",
      "|   13.4|   30.4|               0.0|        3.0|         30.0|       3.0|       9.0|           17.0|         6.0|       48.0|       22.0|     1011.8|     1008.7|      0.0|         1.0|[13.4,30.4,0.0,3....|  1.0|\n",
      "|   15.9|   21.7|               2.2|       15.0|         31.0|      12.0|      14.0|           15.0|        13.0|       89.0|       91.0|     1010.5|     1004.2|      1.0|         1.0|[15.9,21.7,2.2,15...|  1.0|\n",
      "|   15.9|   18.6|              15.6|        0.0|         61.0|       9.0|      13.0|           28.0|        28.0|       76.0|       93.0|      994.3|      993.0|      1.0|         1.0|[15.9,18.6,15.6,0...|  1.0|\n",
      "|   12.6|   21.0|               3.6|        7.0|         44.0|       6.0|      12.0|           24.0|        20.0|       65.0|       43.0|     1001.2|     1001.8|      1.0|         0.0|[12.6,21.0,3.6,7....|  0.0|\n",
      "|    9.8|   27.7|2.3499740743111954|        9.0|         50.0|       0.0|       7.0|14.001988000994|        22.0|       50.0|       28.0|     1013.4|     1010.3|      0.0|         0.0|[9.8,27.7,2.34997...|  0.0|\n",
      "|   14.1|   20.9|               0.0|       11.0|         22.0|      13.0|      10.0|           11.0|         9.0|       69.0|       82.0|     1012.2|     1010.4|      0.0|         1.0|[14.1,20.9,0.0,11...|  1.0|\n",
      "|   13.5|   22.9|              16.8|        0.0|         63.0|       0.0|       7.0|            6.0|        20.0|       80.0|       65.0|     1005.8|     1002.2|      1.0|         1.0|[13.5,22.9,16.8,0...|  1.0|\n",
      "|   11.2|   22.5|              10.6|        4.0|         43.0|      15.0|       4.0|           24.0|        17.0|       47.0|       32.0|     1009.4|     1009.7|      1.0|         0.0|[11.2,22.5,10.6,4...|  0.0|\n",
      "|    9.8|   25.6|               0.0|        4.0|         26.0|       1.0|      13.0|           17.0|         6.0|       45.0|       26.0|     1019.2|     1017.1|      0.0|         0.0|[9.8,25.6,0.0,4.0...|  0.0|\n",
      "|   11.5|   29.3|               0.0|        5.0|         24.0|       1.0|       0.0|            9.0|         9.0|       56.0|       28.0|     1019.3|     1014.8|      0.0|         0.0|[11.5,29.3,0.0,5....|  0.0|\n",
      "+-------+-------+------------------+-----------+-------------+----------+----------+---------------+------------+-----------+-----------+-----------+-----------+---------+------------+--------------------+-----+\n",
      "only showing top 20 rows\n",
      "\n"
     ]
    }
   ],
   "source": [
    "from pyspark.ml.feature import VectorAssembler\n",
    "\n",
    "feature_list = schema_list\n",
    "feature_list.remove('RainTomorrow')\n",
    "va = VectorAssembler(inputCols=feature_list, outputCol='features')\n",
    "feature_df = va.transform(df)\n",
    "feature_df = feature_df.withColumn('label', feature_df['RainTomorrow'])\n",
    "feature_df.show()"
   ]
  },
  {
   "cell_type": "code",
   "execution_count": 18,
   "metadata": {},
   "outputs": [
    {
     "name": "stdout",
     "output_type": "stream",
     "text": [
      "+--------------------+-----+\n",
      "|            features|label|\n",
      "+--------------------+-----+\n",
      "|[13.4,22.9,0.6,0....|  0.0|\n",
      "|[7.4,25.1,0.0,9.0...|  0.0|\n",
      "|[12.9,25.7,0.0,6....|  0.0|\n",
      "|[9.2,28.0,0.0,13....|  0.0|\n",
      "|[17.5,32.3,1.0,0....|  0.0|\n",
      "|[14.6,29.7,0.2,9....|  0.0|\n",
      "|[14.3,25.0,0.0,0....|  0.0|\n",
      "|[7.7,26.7,0.0,0.0...|  0.0|\n",
      "|[9.7,31.9,0.0,14....|  1.0|\n",
      "|[13.1,30.1,1.4,0....|  0.0|\n",
      "|[13.4,30.4,0.0,3....|  1.0|\n",
      "|[15.9,21.7,2.2,15...|  1.0|\n",
      "|[15.9,18.6,15.6,0...|  1.0|\n",
      "|[12.6,21.0,3.6,7....|  0.0|\n",
      "|[9.8,27.7,2.34997...|  0.0|\n",
      "|[14.1,20.9,0.0,11...|  1.0|\n",
      "|[13.5,22.9,16.8,0...|  1.0|\n",
      "|[11.2,22.5,10.6,4...|  0.0|\n",
      "|[9.8,25.6,0.0,4.0...|  0.0|\n",
      "|[11.5,29.3,0.0,5....|  0.0|\n",
      "+--------------------+-----+\n",
      "only showing top 20 rows\n",
      "\n"
     ]
    }
   ],
   "source": [
    "feature_df = feature_df.select('features', 'label')\n",
    "feature_df.show()"
   ]
  },
  {
   "cell_type": "code",
   "execution_count": 19,
   "metadata": {},
   "outputs": [
    {
     "name": "stdout",
     "output_type": "stream",
     "text": [
      "142193\n",
      "99681\n",
      "42512\n"
     ]
    }
   ],
   "source": [
    "train, test = feature_df.randomSplit([0.7, 0.3])\n",
    "print(feature_df.count())\n",
    "print(train.count())\n",
    "print(test.count())"
   ]
  },
  {
   "cell_type": "markdown",
   "metadata": {},
   "source": [
    "## Step 08: Apply machine learning classification algorithms on the dataset and compare their accuracy. Plot the accuracy as bar graph."
   ]
  },
  {
   "cell_type": "code",
   "execution_count": 20,
   "metadata": {},
   "outputs": [],
   "source": [
    "from pyspark.ml.evaluation import MulticlassClassificationEvaluator\n",
    "\n",
    "accuracy_list = list()\n",
    "\n",
    "def testing(model):\n",
    "    predictions = model.transform(test)\n",
    "    predictions.show()\n",
    "    evaluator = MulticlassClassificationEvaluator(\n",
    "        labelCol=\"label\", \n",
    "        predictionCol=\"prediction\", \n",
    "        metricName=\"accuracy\")\n",
    "    accuracy = evaluator.evaluate(predictions)\n",
    "    accuracy_list.append(accuracy)\n",
    "    print(\"Accuracy: %f\" % (accuracy))\n",
    "    print(\"Test Error: %f\" % (1 - accuracy))\n",
    "    return predictions"
   ]
  },
  {
   "cell_type": "markdown",
   "metadata": {},
   "source": [
    "### 1. Logistic Regression"
   ]
  },
  {
   "cell_type": "code",
   "execution_count": 21,
   "metadata": {},
   "outputs": [
    {
     "name": "stdout",
     "output_type": "stream",
     "text": [
      "+--------------------+-----+--------------------+--------------------+----------+\n",
      "|            features|label|       rawPrediction|         probability|prediction|\n",
      "+--------------------+-----+--------------------+--------------------+----------+\n",
      "|(14,[0,1,2,4,9,10...|  0.0|[1.23942395450325...|[0.77546372929645...|       0.0|\n",
      "|(14,[0,1,2,4,9,10...|  0.0|[1.23942395450325...|[0.77546372929645...|       0.0|\n",
      "|(14,[0,1,2,4,9,10...|  0.0|[1.23942395450325...|[0.77546372929645...|       0.0|\n",
      "|(14,[0,1,2,4,9,10...|  0.0|[1.23942395450325...|[0.77546372929645...|       0.0|\n",
      "|(14,[0,1,2,4,9,10...|  0.0|[1.23942395450325...|[0.77546372929645...|       0.0|\n",
      "|(14,[0,1,2,4,9,10...|  0.0|[1.23942395450325...|[0.77546372929645...|       0.0|\n",
      "|(14,[0,1,2,4,9,10...|  0.0|[1.23942395450325...|[0.77546372929645...|       0.0|\n",
      "|(14,[0,1,2,4,9,10...|  0.0|[1.23942395450325...|[0.77546372929645...|       0.0|\n",
      "|(14,[0,1,2,4,9,10...|  0.0|[1.23942395450325...|[0.77546372929645...|       0.0|\n",
      "|(14,[0,1,2,4,9,10...|  0.0|[1.23942395450325...|[0.77546372929645...|       0.0|\n",
      "|(14,[0,1,2,4,9,10...|  0.0|[1.23942395450325...|[0.77546372929645...|       0.0|\n",
      "|(14,[0,1,2,4,9,10...|  0.0|[1.23942395450325...|[0.77546372929645...|       0.0|\n",
      "|(14,[0,1,2,4,9,10...|  0.0|[1.23942395450325...|[0.77546372929645...|       0.0|\n",
      "|(14,[0,1,2,4,9,10...|  1.0|[1.23942395450325...|[0.77546372929645...|       0.0|\n",
      "|(14,[0,1,3,4,9,10...|  0.0|[1.23942395450325...|[0.77546372929645...|       0.0|\n",
      "|(14,[0,1,3,4,9,10...|  0.0|[1.23942395450325...|[0.77546372929645...|       0.0|\n",
      "|(14,[0,1,3,4,9,10...|  0.0|[1.23942395450325...|[0.77546372929645...|       0.0|\n",
      "|(14,[0,1,3,4,9,10...|  0.0|[1.23942395450325...|[0.77546372929645...|       0.0|\n",
      "|(14,[0,1,3,4,9,10...|  0.0|[1.23942395450325...|[0.77546372929645...|       0.0|\n",
      "|(14,[0,1,3,4,9,10...|  0.0|[1.23942395450325...|[0.77546372929645...|       0.0|\n",
      "+--------------------+-----+--------------------+--------------------+----------+\n",
      "only showing top 20 rows\n",
      "\n",
      "Accuracy: 0.776651\n",
      "Test Error: 0.223349\n"
     ]
    }
   ],
   "source": [
    "from pyspark.ml.classification import LogisticRegression\n",
    "\n",
    "lr = LogisticRegression(maxIter=10, regParam=0.3, elasticNetParam=0.8)\n",
    "model = lr.fit(train)\n",
    "predictions = testing(model)"
   ]
  },
  {
   "cell_type": "markdown",
   "metadata": {},
   "source": [
    "### 2. Decision Tree"
   ]
  },
  {
   "cell_type": "code",
   "execution_count": 22,
   "metadata": {},
   "outputs": [
    {
     "name": "stdout",
     "output_type": "stream",
     "text": [
      "+--------------------+-----+------------+--------------------+----------------+--------------------+----------+\n",
      "|            features|label|indexedLabel|     indexedFeatures|   rawPrediction|         probability|prediction|\n",
      "+--------------------+-----+------------+--------------------+----------------+--------------------+----------+\n",
      "|(14,[0,1,2,4,9,10...|  0.0|         0.0|(14,[0,1,2,4,9,10...|[59976.0,7365.0]|[0.89063126475698...|       0.0|\n",
      "|(14,[0,1,2,4,9,10...|  0.0|         0.0|(14,[0,1,2,4,9,10...|[59976.0,7365.0]|[0.89063126475698...|       0.0|\n",
      "|(14,[0,1,2,4,9,10...|  0.0|         0.0|(14,[0,1,2,4,9,10...|  [2118.0,996.0]|[0.68015414258188...|       0.0|\n",
      "|(14,[0,1,2,4,9,10...|  0.0|         0.0|(14,[0,1,2,4,9,10...|  [2118.0,996.0]|[0.68015414258188...|       0.0|\n",
      "|(14,[0,1,2,4,9,10...|  0.0|         0.0|(14,[0,1,2,4,9,10...|  [2118.0,996.0]|[0.68015414258188...|       0.0|\n",
      "|(14,[0,1,2,4,9,10...|  0.0|         0.0|(14,[0,1,2,4,9,10...|  [606.0,2458.0]|[0.19778067885117...|       1.0|\n",
      "|(14,[0,1,2,4,9,10...|  0.0|         0.0|(14,[0,1,2,4,9,10...|[59976.0,7365.0]|[0.89063126475698...|       0.0|\n",
      "|(14,[0,1,2,4,9,10...|  0.0|         0.0|(14,[0,1,2,4,9,10...|[59976.0,7365.0]|[0.89063126475698...|       0.0|\n",
      "|(14,[0,1,2,4,9,10...|  0.0|         0.0|(14,[0,1,2,4,9,10...|[59976.0,7365.0]|[0.89063126475698...|       0.0|\n",
      "|(14,[0,1,2,4,9,10...|  0.0|         0.0|(14,[0,1,2,4,9,10...|  [2118.0,996.0]|[0.68015414258188...|       0.0|\n",
      "|(14,[0,1,2,4,9,10...|  0.0|         0.0|(14,[0,1,2,4,9,10...| [6269.0,2709.0]|[0.69826241924704...|       0.0|\n",
      "|(14,[0,1,2,4,9,10...|  0.0|         0.0|(14,[0,1,2,4,9,10...|  [606.0,2458.0]|[0.19778067885117...|       1.0|\n",
      "|(14,[0,1,2,4,9,10...|  0.0|         0.0|(14,[0,1,2,4,9,10...|[59976.0,7365.0]|[0.89063126475698...|       0.0|\n",
      "|(14,[0,1,2,4,9,10...|  1.0|         1.0|(14,[0,1,2,4,9,10...|[59976.0,7365.0]|[0.89063126475698...|       0.0|\n",
      "|(14,[0,1,3,4,9,10...|  0.0|         0.0|(14,[0,1,3,4,9,10...|[59976.0,7365.0]|[0.89063126475698...|       0.0|\n",
      "|(14,[0,1,3,4,9,10...|  0.0|         0.0|(14,[0,1,3,4,9,10...|[59976.0,7365.0]|[0.89063126475698...|       0.0|\n",
      "|(14,[0,1,3,4,9,10...|  0.0|         0.0|(14,[0,1,3,4,9,10...|[59976.0,7365.0]|[0.89063126475698...|       0.0|\n",
      "|(14,[0,1,3,4,9,10...|  0.0|         0.0|(14,[0,1,3,4,9,10...|[59976.0,7365.0]|[0.89063126475698...|       0.0|\n",
      "|(14,[0,1,3,4,9,10...|  0.0|         0.0|(14,[0,1,3,4,9,10...|[59976.0,7365.0]|[0.89063126475698...|       0.0|\n",
      "|(14,[0,1,3,4,9,10...|  0.0|         0.0|(14,[0,1,3,4,9,10...|[59976.0,7365.0]|[0.89063126475698...|       0.0|\n",
      "+--------------------+-----+------------+--------------------+----------------+--------------------+----------+\n",
      "only showing top 20 rows\n",
      "\n",
      "Accuracy: 0.833906\n",
      "Test Error: 0.166094\n"
     ]
    }
   ],
   "source": [
    "from pyspark.ml import Pipeline\n",
    "from pyspark.ml.classification import DecisionTreeClassifier\n",
    "from pyspark.ml.feature import StringIndexer, VectorIndexer\n",
    "\n",
    "labelIndexer = StringIndexer(inputCol=\"label\", outputCol=\"indexedLabel\").fit(feature_df)\n",
    "featureIndexer = VectorIndexer(inputCol=\"features\", outputCol=\"indexedFeatures\", maxCategories=4).fit(feature_df)\n",
    "dt = DecisionTreeClassifier(labelCol=\"indexedLabel\", featuresCol=\"indexedFeatures\")\n",
    "pipeline = Pipeline(stages=[labelIndexer, featureIndexer, dt])\n",
    "model = pipeline.fit(train)\n",
    "predictions = testing(model)"
   ]
  },
  {
   "cell_type": "markdown",
   "metadata": {},
   "source": [
    "### 3. Random Forest"
   ]
  },
  {
   "cell_type": "code",
   "execution_count": 23,
   "metadata": {},
   "outputs": [
    {
     "name": "stdout",
     "output_type": "stream",
     "text": [
      "+--------------------+-----+------------+--------------------+--------------------+--------------------+----------+--------------+\n",
      "|            features|label|indexedLabel|     indexedFeatures|       rawPrediction|         probability|prediction|predictedLabel|\n",
      "+--------------------+-----+------------+--------------------+--------------------+--------------------+----------+--------------+\n",
      "|(14,[0,1,2,4,9,10...|  0.0|         0.0|(14,[0,1,2,4,9,10...|[8.79168135879819...|[0.87916813587981...|       0.0|           0.0|\n",
      "|(14,[0,1,2,4,9,10...|  0.0|         0.0|(14,[0,1,2,4,9,10...|[8.79168135879819...|[0.87916813587981...|       0.0|           0.0|\n",
      "|(14,[0,1,2,4,9,10...|  0.0|         0.0|(14,[0,1,2,4,9,10...|[7.41678595576325...|[0.74167859557632...|       0.0|           0.0|\n",
      "|(14,[0,1,2,4,9,10...|  0.0|         0.0|(14,[0,1,2,4,9,10...|[7.30075832204122...|[0.73007583220412...|       0.0|           0.0|\n",
      "|(14,[0,1,2,4,9,10...|  0.0|         0.0|(14,[0,1,2,4,9,10...|[7.51685117435635...|[0.75168511743563...|       0.0|           0.0|\n",
      "|(14,[0,1,2,4,9,10...|  0.0|         0.0|(14,[0,1,2,4,9,10...|[5.08681978087282...|[0.50868197808728...|       0.0|           0.0|\n",
      "|(14,[0,1,2,4,9,10...|  0.0|         0.0|(14,[0,1,2,4,9,10...|[8.48699811575757...|[0.84869981157575...|       0.0|           0.0|\n",
      "|(14,[0,1,2,4,9,10...|  0.0|         0.0|(14,[0,1,2,4,9,10...|[8.72632015654692...|[0.87263201565469...|       0.0|           0.0|\n",
      "|(14,[0,1,2,4,9,10...|  0.0|         0.0|(14,[0,1,2,4,9,10...|[8.76887688269810...|[0.87688768826981...|       0.0|           0.0|\n",
      "|(14,[0,1,2,4,9,10...|  0.0|         0.0|(14,[0,1,2,4,9,10...|[6.60453428231721...|[0.66045342823172...|       0.0|           0.0|\n",
      "|(14,[0,1,2,4,9,10...|  0.0|         0.0|(14,[0,1,2,4,9,10...|[8.04020267807633...|[0.80402026780763...|       0.0|           0.0|\n",
      "|(14,[0,1,2,4,9,10...|  0.0|         0.0|(14,[0,1,2,4,9,10...|[5.44062847410742...|[0.54406284741074...|       0.0|           0.0|\n",
      "|(14,[0,1,2,4,9,10...|  0.0|         0.0|(14,[0,1,2,4,9,10...|[8.48699811575757...|[0.84869981157575...|       0.0|           0.0|\n",
      "|(14,[0,1,2,4,9,10...|  1.0|         1.0|(14,[0,1,2,4,9,10...|[8.60411227033991...|[0.86041122703399...|       0.0|           0.0|\n",
      "|(14,[0,1,3,4,9,10...|  0.0|         0.0|(14,[0,1,3,4,9,10...|[8.79168135879819...|[0.87916813587981...|       0.0|           0.0|\n",
      "|(14,[0,1,3,4,9,10...|  0.0|         0.0|(14,[0,1,3,4,9,10...|[8.79168135879819...|[0.87916813587981...|       0.0|           0.0|\n",
      "|(14,[0,1,3,4,9,10...|  0.0|         0.0|(14,[0,1,3,4,9,10...|[8.79168135879819...|[0.87916813587981...|       0.0|           0.0|\n",
      "|(14,[0,1,3,4,9,10...|  0.0|         0.0|(14,[0,1,3,4,9,10...|[8.79168135879819...|[0.87916813587981...|       0.0|           0.0|\n",
      "|(14,[0,1,3,4,9,10...|  0.0|         0.0|(14,[0,1,3,4,9,10...|[8.79168135879819...|[0.87916813587981...|       0.0|           0.0|\n",
      "|(14,[0,1,3,4,9,10...|  0.0|         0.0|(14,[0,1,3,4,9,10...|[8.62625493795381...|[0.86262549379538...|       0.0|           0.0|\n",
      "+--------------------+-----+------------+--------------------+--------------------+--------------------+----------+--------------+\n",
      "only showing top 20 rows\n",
      "\n",
      "Accuracy: 0.833365\n",
      "Test Error: 0.166635\n"
     ]
    }
   ],
   "source": [
    "from pyspark.ml import Pipeline\n",
    "from pyspark.ml.classification import RandomForestClassifier\n",
    "from pyspark.ml.feature import IndexToString, StringIndexer, VectorIndexer\n",
    "\n",
    "rf = RandomForestClassifier(labelCol=\"indexedLabel\", featuresCol=\"indexedFeatures\", numTrees=10)\n",
    "labelConverter = IndexToString(inputCol=\"prediction\", outputCol=\"predictedLabel\", labels=labelIndexer.labels)\n",
    "pipeline = Pipeline(stages=[labelIndexer, featureIndexer, rf, labelConverter])\n",
    "model = pipeline.fit(train)\n",
    "predictions = testing(model)"
   ]
  },
  {
   "cell_type": "markdown",
   "metadata": {},
   "source": [
    "### 4. Gradient-boosted Tree"
   ]
  },
  {
   "cell_type": "code",
   "execution_count": 24,
   "metadata": {},
   "outputs": [
    {
     "name": "stdout",
     "output_type": "stream",
     "text": [
      "+--------------------+-----+------------+--------------------+--------------------+--------------------+----------+\n",
      "|            features|label|indexedLabel|     indexedFeatures|       rawPrediction|         probability|prediction|\n",
      "+--------------------+-----+------------+--------------------+--------------------+--------------------+----------+\n",
      "|(14,[0,1,2,4,9,10...|  0.0|         0.0|(14,[0,1,2,4,9,10...|[0.62948285578112...|[0.77884800940286...|       0.0|\n",
      "|(14,[0,1,2,4,9,10...|  0.0|         0.0|(14,[0,1,2,4,9,10...|[0.78970172925681...|[0.82912001656405...|       0.0|\n",
      "|(14,[0,1,2,4,9,10...|  0.0|         0.0|(14,[0,1,2,4,9,10...|[0.34684919957294...|[0.66678914843029...|       0.0|\n",
      "|(14,[0,1,2,4,9,10...|  0.0|         0.0|(14,[0,1,2,4,9,10...|[0.34684919957294...|[0.66678914843029...|       0.0|\n",
      "|(14,[0,1,2,4,9,10...|  0.0|         0.0|(14,[0,1,2,4,9,10...|[0.34684919957294...|[0.66678914843029...|       0.0|\n",
      "|(14,[0,1,2,4,9,10...|  0.0|         0.0|(14,[0,1,2,4,9,10...|[-0.4332443243160...|[0.29598546609003...|       1.0|\n",
      "|(14,[0,1,2,4,9,10...|  0.0|         0.0|(14,[0,1,2,4,9,10...|[0.34684919957294...|[0.66678914843029...|       0.0|\n",
      "|(14,[0,1,2,4,9,10...|  0.0|         0.0|(14,[0,1,2,4,9,10...|[0.64435658101149...|[0.78392929885725...|       0.0|\n",
      "|(14,[0,1,2,4,9,10...|  0.0|         0.0|(14,[0,1,2,4,9,10...|[0.77390306352004...|[0.82459664252354...|       0.0|\n",
      "|(14,[0,1,2,4,9,10...|  0.0|         0.0|(14,[0,1,2,4,9,10...|[0.34684919957294...|[0.66678914843029...|       0.0|\n",
      "|(14,[0,1,2,4,9,10...|  0.0|         0.0|(14,[0,1,2,4,9,10...|[0.40853262924348...|[0.69361302107563...|       0.0|\n",
      "|(14,[0,1,2,4,9,10...|  0.0|         0.0|(14,[0,1,2,4,9,10...|[-0.9098670161820...|[0.13946579002894...|       1.0|\n",
      "|(14,[0,1,2,4,9,10...|  0.0|         0.0|(14,[0,1,2,4,9,10...|[0.34684919957294...|[0.66678914843029...|       0.0|\n",
      "|(14,[0,1,2,4,9,10...|  1.0|         1.0|(14,[0,1,2,4,9,10...|[0.67993538600204...|[0.79573869397789...|       0.0|\n",
      "|(14,[0,1,3,4,9,10...|  0.0|         0.0|(14,[0,1,3,4,9,10...|[1.02679671967149...|[0.88631021250648...|       0.0|\n",
      "|(14,[0,1,3,4,9,10...|  0.0|         0.0|(14,[0,1,3,4,9,10...|[1.18977848920859...|[0.91525507840974...|       0.0|\n",
      "|(14,[0,1,3,4,9,10...|  0.0|         0.0|(14,[0,1,3,4,9,10...|[1.03330631843248...|[0.88761550107061...|       0.0|\n",
      "|(14,[0,1,3,4,9,10...|  0.0|         0.0|(14,[0,1,3,4,9,10...|[1.18710286313702...|[0.91483909468409...|       0.0|\n",
      "|(14,[0,1,3,4,9,10...|  0.0|         0.0|(14,[0,1,3,4,9,10...|[1.19078691738689...|[0.91541138132453...|       0.0|\n",
      "|(14,[0,1,3,4,9,10...|  0.0|         0.0|(14,[0,1,3,4,9,10...|[1.02853915262384...|[0.88666089054570...|       0.0|\n",
      "+--------------------+-----+------------+--------------------+--------------------+--------------------+----------+\n",
      "only showing top 20 rows\n",
      "\n",
      "Accuracy: 0.839504\n",
      "Test Error: 0.160496\n"
     ]
    }
   ],
   "source": [
    "from pyspark.ml.classification import GBTClassifier\n",
    "\n",
    "gbt = GBTClassifier(labelCol=\"indexedLabel\", featuresCol=\"indexedFeatures\", maxIter=10)\n",
    "pipeline = Pipeline(stages=[labelIndexer, featureIndexer, gbt])\n",
    "model = pipeline.fit(train)\n",
    "predictions = testing(model)"
   ]
  },
  {
   "cell_type": "markdown",
   "metadata": {},
   "source": [
    "### 5. Multilayer Perceptron Classifier"
   ]
  },
  {
   "cell_type": "code",
   "execution_count": 25,
   "metadata": {},
   "outputs": [
    {
     "name": "stdout",
     "output_type": "stream",
     "text": [
      "+--------------------+-----+--------------------+--------------------+----------+\n",
      "|            features|label|       rawPrediction|         probability|prediction|\n",
      "+--------------------+-----+--------------------+--------------------+----------+\n",
      "|(14,[0,1,2,4,9,10...|  0.0|[-0.1914617186539...|[0.71029462532111...|       0.0|\n",
      "|(14,[0,1,2,4,9,10...|  0.0|[0.53147284631675...|[0.90160573155658...|       0.0|\n",
      "|(14,[0,1,2,4,9,10...|  0.0|[-0.8680202333954...|[0.41654075083331...|       1.0|\n",
      "|(14,[0,1,2,4,9,10...|  0.0|[-0.8680202934300...|[0.41654072422813...|       1.0|\n",
      "|(14,[0,1,2,4,9,10...|  0.0|[-0.8680202875632...|[0.41654072682571...|       1.0|\n",
      "|(14,[0,1,2,4,9,10...|  0.0|[-0.8573132594791...|[0.42129378204463...|       1.0|\n",
      "|(14,[0,1,2,4,9,10...|  0.0|[-0.8680200755076...|[0.41654082081101...|       1.0|\n",
      "|(14,[0,1,2,4,9,10...|  0.0|[-0.8679785692763...|[0.41655921689969...|       1.0|\n",
      "|(14,[0,1,2,4,9,10...|  0.0|[0.26541179748126...|[0.84941147677611...|       0.0|\n",
      "|(14,[0,1,2,4,9,10...|  0.0|[-0.8680202769294...|[0.41654073153861...|       1.0|\n",
      "|(14,[0,1,2,4,9,10...|  0.0|[-0.8679487224449...|[0.41657244553843...|       1.0|\n",
      "|(14,[0,1,2,4,9,10...|  0.0|[-0.8680202935043...|[0.41654072419247...|       1.0|\n",
      "|(14,[0,1,2,4,9,10...|  0.0|[-0.8680201889834...|[0.41654077051718...|       1.0|\n",
      "|(14,[0,1,2,4,9,10...|  1.0|[-0.8680201342901...|[0.41654079475778...|       1.0|\n",
      "|(14,[0,1,3,4,9,10...|  0.0|[0.53618893436918...|[0.90236607474875...|       0.0|\n",
      "|(14,[0,1,3,4,9,10...|  0.0|[0.53618893684963...|[0.90236607519622...|       0.0|\n",
      "|(14,[0,1,3,4,9,10...|  0.0|[0.53618893384865...|[0.90236607462850...|       0.0|\n",
      "|(14,[0,1,3,4,9,10...|  0.0|[0.53618893386129...|[0.90236607463090...|       0.0|\n",
      "|(14,[0,1,3,4,9,10...|  0.0|[0.53618893395175...|[0.90236607464801...|       0.0|\n",
      "|(14,[0,1,3,4,9,10...|  0.0|[0.53618713163615...|[0.90236578519445...|       0.0|\n",
      "+--------------------+-----+--------------------+--------------------+----------+\n",
      "only showing top 20 rows\n",
      "\n",
      "Accuracy: 0.811300\n",
      "Test Error: 0.188700\n"
     ]
    }
   ],
   "source": [
    "from pyspark.ml.classification import MultilayerPerceptronClassifier\n",
    "\n",
    "layers = [14, 8, 2]\n",
    "trainer = MultilayerPerceptronClassifier(maxIter=100, layers=layers, blockSize=128, seed=1234)\n",
    "model = trainer.fit(train)\n",
    "predictions = testing(model)"
   ]
  },
  {
   "cell_type": "markdown",
   "metadata": {},
   "source": [
    "### 6. Linear Support Vector Machine"
   ]
  },
  {
   "cell_type": "code",
   "execution_count": 26,
   "metadata": {},
   "outputs": [
    {
     "name": "stdout",
     "output_type": "stream",
     "text": [
      "+--------------------+-----+--------------------+----------+\n",
      "|            features|label|       rawPrediction|prediction|\n",
      "+--------------------+-----+--------------------+----------+\n",
      "|(14,[0,1,2,4,9,10...|  0.0|[1.00034548070551...|       0.0|\n",
      "|(14,[0,1,2,4,9,10...|  0.0|[1.00037771370456...|       0.0|\n",
      "|(14,[0,1,2,4,9,10...|  0.0|[1.00055139461178...|       0.0|\n",
      "|(14,[0,1,2,4,9,10...|  0.0|[0.99992330781503...|       0.0|\n",
      "|(14,[0,1,2,4,9,10...|  0.0|[1.00022116434458...|       0.0|\n",
      "|(14,[0,1,2,4,9,10...|  0.0|[1.00135367090439...|       0.0|\n",
      "|(14,[0,1,2,4,9,10...|  0.0|[1.00044364183606...|       0.0|\n",
      "|(14,[0,1,2,4,9,10...|  0.0|[1.00065411531297...|       0.0|\n",
      "|(14,[0,1,2,4,9,10...|  0.0|[1.00098373973468...|       0.0|\n",
      "|(14,[0,1,2,4,9,10...|  0.0|[1.00048547990566...|       0.0|\n",
      "|(14,[0,1,2,4,9,10...|  0.0|[1.00059740439684...|       0.0|\n",
      "|(14,[0,1,2,4,9,10...|  0.0|[1.00103583077991...|       0.0|\n",
      "|(14,[0,1,2,4,9,10...|  0.0|[1.00085190857291...|       0.0|\n",
      "|(14,[0,1,2,4,9,10...|  1.0|[1.00311132155446...|       0.0|\n",
      "|(14,[0,1,3,4,9,10...|  0.0|[1.00998394067074...|       0.0|\n",
      "|(14,[0,1,3,4,9,10...|  0.0|[1.00784209640777...|       0.0|\n",
      "|(14,[0,1,3,4,9,10...|  0.0|[1.00174490135724...|       0.0|\n",
      "|(14,[0,1,3,4,9,10...|  0.0|[1.00879815728588...|       0.0|\n",
      "|(14,[0,1,3,4,9,10...|  0.0|[1.01105281864283...|       0.0|\n",
      "|(14,[0,1,3,4,9,10...|  0.0|[1.01088805967550...|       0.0|\n",
      "+--------------------+-----+--------------------+----------+\n",
      "only showing top 20 rows\n",
      "\n",
      "Accuracy: 0.776651\n",
      "Test Error: 0.223349\n"
     ]
    }
   ],
   "source": [
    "from pyspark.ml.classification import LinearSVC\n",
    "\n",
    "lsvc = LinearSVC(maxIter=10, regParam=0.1)\n",
    "model = lsvc.fit(train)\n",
    "predictions = testing(model)"
   ]
  },
  {
   "cell_type": "markdown",
   "metadata": {},
   "source": [
    "### 7. One-vs-Rest Classifier (a.k.a. One-vs-All)"
   ]
  },
  {
   "cell_type": "code",
   "execution_count": 27,
   "metadata": {},
   "outputs": [
    {
     "name": "stdout",
     "output_type": "stream",
     "text": [
      "+--------------------+-----+----------+\n",
      "|            features|label|prediction|\n",
      "+--------------------+-----+----------+\n",
      "|(14,[0,1,2,4,9,10...|  0.0|       0.0|\n",
      "|(14,[0,1,2,4,9,10...|  0.0|       0.0|\n",
      "|(14,[0,1,2,4,9,10...|  0.0|       0.0|\n",
      "|(14,[0,1,2,4,9,10...|  0.0|       0.0|\n",
      "|(14,[0,1,2,4,9,10...|  0.0|       0.0|\n",
      "|(14,[0,1,2,4,9,10...|  0.0|       0.0|\n",
      "|(14,[0,1,2,4,9,10...|  0.0|       0.0|\n",
      "|(14,[0,1,2,4,9,10...|  0.0|       0.0|\n",
      "|(14,[0,1,2,4,9,10...|  0.0|       0.0|\n",
      "|(14,[0,1,2,4,9,10...|  0.0|       0.0|\n",
      "|(14,[0,1,2,4,9,10...|  0.0|       0.0|\n",
      "|(14,[0,1,2,4,9,10...|  0.0|       0.0|\n",
      "|(14,[0,1,2,4,9,10...|  0.0|       0.0|\n",
      "|(14,[0,1,2,4,9,10...|  1.0|       0.0|\n",
      "|(14,[0,1,3,4,9,10...|  0.0|       0.0|\n",
      "|(14,[0,1,3,4,9,10...|  0.0|       0.0|\n",
      "|(14,[0,1,3,4,9,10...|  0.0|       0.0|\n",
      "|(14,[0,1,3,4,9,10...|  0.0|       0.0|\n",
      "|(14,[0,1,3,4,9,10...|  0.0|       0.0|\n",
      "|(14,[0,1,3,4,9,10...|  0.0|       0.0|\n",
      "+--------------------+-----+----------+\n",
      "only showing top 20 rows\n",
      "\n",
      "Accuracy: 0.815417\n",
      "Test Error: 0.184583\n"
     ]
    }
   ],
   "source": [
    "from pyspark.ml.classification import LogisticRegression, OneVsRest\n",
    "\n",
    "lr = LogisticRegression(maxIter=10, tol=1E-6, fitIntercept=True)\n",
    "ovr = OneVsRest(classifier=lr)\n",
    "model = ovr.fit(train)\n",
    "predictions = testing(model)"
   ]
  },
  {
   "cell_type": "markdown",
   "metadata": {},
   "source": [
    "### 8. Naive Bayes"
   ]
  },
  {
   "cell_type": "markdown",
   "metadata": {},
   "source": [
    "Naive Bayes requires nonnegative feature values"
   ]
  },
  {
   "cell_type": "code",
   "execution_count": 28,
   "metadata": {},
   "outputs": [],
   "source": [
    "# from pyspark.ml.classification import NaiveBayes\n",
    "\n",
    "# nb = NaiveBayes(smoothing=1.0, modelType=\"multinomial\")\n",
    "# model = nb.fit(train)\n",
    "# predictions = testing(model)"
   ]
  },
  {
   "cell_type": "code",
   "execution_count": 34,
   "metadata": {},
   "outputs": [
    {
     "data": {
      "image/png": "[encoded data removed]",
      "text/plain": [
       "<Figure size 1152x648 with 1 Axes>"
      ]
     },
     "metadata": {
      "needs_background": "light"
     },
     "output_type": "display_data"
    }
   ],
   "source": [
    "import matplotlib.pyplot as plt\n",
    "import numpy as np\n",
    "\n",
    "x_list = list()\n",
    "y_list = list()\n",
    "for x, y in enumerate(accuracy_list):\n",
    "    x_list.append(x)\n",
    "    y_list.append(y)\n",
    "x_array = np.array(x_list)\n",
    "y_array = np.array(y_list)\n",
    "\n",
    "plt.figure(figsize=(16, 9))\n",
    "plt.bar(x_array, y_array, alpha=0.2, width=0.5)\n",
    "# plt.plot(x_array, y_array, color='red')\n",
    "plt.xticks(np.arange(7), ('Logistic Regression', \n",
    "                          'Decision Tree', \n",
    "                          'Random Forest', \n",
    "                          'GBT', \n",
    "                          'MPC', \n",
    "                          'LSVM', \n",
    "                          'One-vs-All'))\n",
    "\n",
    "for xy in zip(x_array, y_array):\n",
    "    plt.annotate('%.2f' % xy[1], \n",
    "                 xy=xy, \n",
    "                 xycoords='data', \n",
    "                 size=16, \n",
    "                 verticalalignment='bottom', \n",
    "                 horizontalalignment='center'\n",
    "                )\n",
    "    \n",
    "plt.show()"
   ]
  },
  {
   "cell_type": "markdown",
   "metadata": {},
   "source": [
    "## Step 09: Calculate the confusion matrix and find the precision, recall, and F1 score of each classification algorithm. Explain how the accuracy of the predication can be improved?"
   ]
  },
  {
   "cell_type": "code",
   "execution_count": 30,
   "metadata": {},
   "outputs": [],
   "source": [
    "from sklearn.metrics import confusion_matrix\n",
    "\n",
    "y_true = predictions.select(\"label\")\n",
    "y_true = y_true.toPandas()\n",
    "y_pred = predictions.select(\"prediction\")\n",
    "y_pred = y_pred.toPandas()\n",
    "\n",
    "cnf_matrix = confusion_matrix(y_true, y_pred)"
   ]
  },
  {
   "cell_type": "code",
   "execution_count": 31,
   "metadata": {},
   "outputs": [],
   "source": [
    "import itertools\n",
    "\n",
    "def plot_confusion_matrix(confusion_matrix, normalize=False, cmap=plt.cm.Blues):\n",
    "    \n",
    "    if normalize:\n",
    "        confusion_matrix = confusion_matrix.astype('float') / confusion_matrix.sum(axis=1)[:, np.newaxis]\n",
    "        font_format = '.2f' \n",
    "        print(\"Normalized confusion matrix\")\n",
    "    else:\n",
    "        font_format = 'd'\n",
    "        print('Non-normalization Confusion matrix')\n",
    "\n",
    "    print(confusion_matrix)\n",
    "    \n",
    "#     plt.figure(figsize=(16, 9))\n",
    "    plt.imshow(confusion_matrix, interpolation='nearest', cmap=cmap)\n",
    "    plt.colorbar()\n",
    "    \n",
    "    thresh = confusion_matrix.max() / 2.\n",
    "    for i, j in itertools.product(range(confusion_matrix.shape[0]), range(confusion_matrix.shape[1])):\n",
    "        plt.text(j, i, format(confusion_matrix[i, j], font_format),\n",
    "                 horizontalalignment=\"center\",\n",
    "                 color=\"white\" if confusion_matrix[i, j] > thresh else \"black\",\n",
    "                 size = 24,\n",
    "                )\n",
    "        \n",
    "    plt.tight_layout()\n",
    "    plt.ylabel('True Label')\n",
    "    plt.xlabel('Predicted Label')\n",
    "    plt.show()"
   ]
  },
  {
   "cell_type": "markdown",
   "metadata": {},
   "source": [
    "### Non-normalization Confusion matrix"
   ]
  },
  {
   "cell_type": "code",
   "execution_count": 32,
   "metadata": {},
   "outputs": [
    {
     "name": "stdout",
     "output_type": "stream",
     "text": [
      "Non-normalization Confusion matrix\n",
      "[[30635  2382]\n",
      " [ 5465  4030]]\n"
     ]
    },
    {
     "data": {
      "image/png": "[encoded data removed]",
      "text/plain": [
       "<Figure size 432x288 with 2 Axes>"
      ]
     },
     "metadata": {
      "needs_background": "light"
     },
     "output_type": "display_data"
    }
   ],
   "source": [
    "plot_confusion_matrix(cnf_matrix)"
   ]
  },
  {
   "cell_type": "markdown",
   "metadata": {},
   "source": [
    "### Normalization Confusion matrix"
   ]
  },
  {
   "cell_type": "code",
   "execution_count": 33,
   "metadata": {},
   "outputs": [
    {
     "name": "stdout",
     "output_type": "stream",
     "text": [
      "Normalized confusion matrix\n",
      "[[0.92785535 0.07214465]\n",
      " [0.57556609 0.42443391]]\n"
     ]
    },
    {
     "data": {
      "image/png": "[encoded data removed]",
      "text/plain": [
       "<Figure size 432x288 with 2 Axes>"
      ]
     },
     "metadata": {
      "needs_background": "light"
     },
     "output_type": "display_data"
    }
   ],
   "source": [
    "plot_confusion_matrix(cnf_matrix, normalize=True)"
   ]
  },
  {
   "cell_type": "code",
   "execution_count": null,
   "metadata": {},
   "outputs": [],
   "source": []
  }
 ],
 "metadata": {
  "kernelspec": {
   "display_name": "Python 3",
   "language": "python",
   "name": "python3"
  },
  "language_info": {
   "codemirror_mode": {
    "name": "ipython",
    "version": 3
   },
   "file_extension": ".py",
   "mimetype": "text/x-python",
   "name": "python",
   "nbconvert_exporter": "python",
   "pygments_lexer": "ipython3",
   "version": "3.6.8"
  }
 },
 "nbformat": 4,
 "nbformat_minor": 2
}
