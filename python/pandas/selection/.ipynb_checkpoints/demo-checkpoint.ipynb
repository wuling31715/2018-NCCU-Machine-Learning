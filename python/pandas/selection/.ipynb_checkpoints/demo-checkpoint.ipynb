{
 "cells": [
  {
   "cell_type": "markdown",
   "metadata": {},
   "source": [
    "# Selection"
   ]
  },
  {
   "cell_type": "code",
   "execution_count": 1,
   "metadata": {
    "collapsed": true
   },
   "outputs": [],
   "source": [
    "import numpy as np\n",
    "import pandas as pd"
   ]
  },
  {
   "cell_type": "code",
   "execution_count": 2,
   "metadata": {
    "collapsed": false
   },
   "outputs": [
    {
     "name": "stdout",
     "output_type": "stream",
     "text": [
      "              area       pop\n",
      "California  423967  38332521\n",
      "Florida     170312  19552860\n",
      "Illinois    149995  12882135\n",
      "New York    141297  19651127\n",
      "Texas       695662  26448193\n"
     ]
    }
   ],
   "source": [
    "area = pd.Series({'California': 423967, 'Texas': 695662, 'New York': 141297, 'Florida': 170312, 'Illinois': 149995})\n",
    "pop = pd.Series({'California': 38332521, 'Texas': 26448193, 'New York': 19651127, 'Florida': 19552860, 'Illinois': 12882135})\n",
    "data = pd.DataFrame({'area':area, 'pop':pop})\n",
    "print(data)"
   ]
  },
  {
   "cell_type": "code",
   "execution_count": 3,
   "metadata": {
    "collapsed": false
   },
   "outputs": [
    {
     "name": "stdout",
     "output_type": "stream",
     "text": [
      "California    423967\n",
      "Florida       170312\n",
      "Illinois      149995\n",
      "New York      141297\n",
      "Texas         695662\n",
      "Name: area, dtype: int64\n"
     ]
    }
   ],
   "source": [
    "print(data['area'])"
   ]
  },
  {
   "cell_type": "code",
   "execution_count": 4,
   "metadata": {
    "collapsed": false
   },
   "outputs": [
    {
     "name": "stdout",
     "output_type": "stream",
     "text": [
      "California    423967\n",
      "Florida       170312\n",
      "Illinois      149995\n",
      "New York      141297\n",
      "Texas         695662\n",
      "Name: area, dtype: int64\n"
     ]
    }
   ],
   "source": [
    "print(data.area)"
   ]
  },
  {
   "cell_type": "code",
   "execution_count": 5,
   "metadata": {
    "collapsed": false
   },
   "outputs": [
    {
     "name": "stdout",
     "output_type": "stream",
     "text": [
      "True\n"
     ]
    }
   ],
   "source": [
    "print(data.area is data['area'])"
   ]
  },
  {
   "cell_type": "code",
   "execution_count": 6,
   "metadata": {
    "collapsed": false
   },
   "outputs": [
    {
     "name": "stdout",
     "output_type": "stream",
     "text": [
      "False\n"
     ]
    }
   ],
   "source": [
    "print(data.pop is data['pop'])"
   ]
  },
  {
   "cell_type": "code",
   "execution_count": 7,
   "metadata": {
    "collapsed": false
   },
   "outputs": [
    {
     "name": "stdout",
     "output_type": "stream",
     "text": [
      "              area       pop     density\n",
      "California  423967  38332521   90.413926\n",
      "Florida     170312  19552860  114.806121\n",
      "Illinois    149995  12882135   85.883763\n",
      "New York    141297  19651127  139.076746\n",
      "Texas       695662  26448193   38.018740\n"
     ]
    }
   ],
   "source": [
    "data['density'] = data['pop'] / data['area']\n",
    "print(data)"
   ]
  },
  {
   "cell_type": "code",
   "execution_count": 8,
   "metadata": {
    "collapsed": false
   },
   "outputs": [
    {
     "name": "stdout",
     "output_type": "stream",
     "text": [
      "[[  4.23967000e+05   3.83325210e+07   9.04139261e+01]\n",
      " [  1.70312000e+05   1.95528600e+07   1.14806121e+02]\n",
      " [  1.49995000e+05   1.28821350e+07   8.58837628e+01]\n",
      " [  1.41297000e+05   1.96511270e+07   1.39076746e+02]\n",
      " [  6.95662000e+05   2.64481930e+07   3.80187404e+01]]\n"
     ]
    }
   ],
   "source": [
    "print(data.values)"
   ]
  },
  {
   "cell_type": "code",
   "execution_count": 9,
   "metadata": {
    "collapsed": false
   },
   "outputs": [
    {
     "name": "stdout",
     "output_type": "stream",
     "text": [
      "           California       Florida      Illinois      New York         Texas\n",
      "area     4.239670e+05  1.703120e+05  1.499950e+05  1.412970e+05  6.956620e+05\n",
      "pop      3.833252e+07  1.955286e+07  1.288214e+07  1.965113e+07  2.644819e+07\n",
      "density  9.041393e+01  1.148061e+02  8.588376e+01  1.390767e+02  3.801874e+01\n"
     ]
    }
   ],
   "source": [
    "print(data.T)"
   ]
  },
  {
   "cell_type": "code",
   "execution_count": 10,
   "metadata": {
    "collapsed": false
   },
   "outputs": [
    {
     "name": "stdout",
     "output_type": "stream",
     "text": [
      "[  4.23967000e+05   3.83325210e+07   9.04139261e+01]\n"
     ]
    }
   ],
   "source": [
    "print(data.values[0])"
   ]
  },
  {
   "cell_type": "code",
   "execution_count": 11,
   "metadata": {
    "collapsed": false
   },
   "outputs": [
    {
     "name": "stdout",
     "output_type": "stream",
     "text": [
      "California    423967\n",
      "Florida       170312\n",
      "Illinois      149995\n",
      "New York      141297\n",
      "Texas         695662\n",
      "Name: area, dtype: int64\n"
     ]
    }
   ],
   "source": [
    "print(data['area'])"
   ]
  },
  {
   "cell_type": "code",
   "execution_count": 12,
   "metadata": {
    "collapsed": false
   },
   "outputs": [
    {
     "name": "stdout",
     "output_type": "stream",
     "text": [
      "              area       pop\n",
      "California  423967  38332521\n",
      "Florida     170312  19552860\n",
      "Illinois    149995  12882135\n"
     ]
    }
   ],
   "source": [
    "print(data.loc[:'Illinois', :'pop'])"
   ]
  },
  {
   "cell_type": "code",
   "execution_count": 13,
   "metadata": {
    "collapsed": false
   },
   "outputs": [
    {
     "name": "stdout",
     "output_type": "stream",
     "text": [
      "              area       pop\n",
      "California  423967  38332521\n",
      "Florida     170312  19552860\n",
      "Illinois    149995  12882135\n"
     ]
    }
   ],
   "source": [
    "print(data.iloc[:3, :2])"
   ]
  },
  {
   "cell_type": "code",
   "execution_count": 15,
   "metadata": {
    "collapsed": false
   },
   "outputs": [
    {
     "name": "stdout",
     "output_type": "stream",
     "text": [
      "               pop     density\n",
      "Florida   19552860  114.806121\n",
      "New York  19651127  139.076746\n"
     ]
    }
   ],
   "source": [
    "print(data.loc[data.density > 100, ['pop', 'density']])"
   ]
  },
  {
   "cell_type": "code",
   "execution_count": 16,
   "metadata": {
    "collapsed": false
   },
   "outputs": [
    {
     "name": "stdout",
     "output_type": "stream",
     "text": [
      "              area       pop     density\n",
      "California  423967  38332521   90.000000\n",
      "Florida     170312  19552860  114.806121\n",
      "Illinois    149995  12882135   85.883763\n",
      "New York    141297  19651127  139.076746\n",
      "Texas       695662  26448193   38.018740\n"
     ]
    }
   ],
   "source": [
    "data.iloc[0, 2] = 90\n",
    "print(data)"
   ]
  },
  {
   "cell_type": "code",
   "execution_count": 17,
   "metadata": {
    "collapsed": false
   },
   "outputs": [
    {
     "name": "stdout",
     "output_type": "stream",
     "text": [
      "            area       pop     density\n",
      "Florida   170312  19552860  114.806121\n",
      "Illinois  149995  12882135   85.883763\n"
     ]
    }
   ],
   "source": [
    "print(data['Florida':'Illinois'])"
   ]
  },
  {
   "cell_type": "code",
   "execution_count": 18,
   "metadata": {
    "collapsed": false
   },
   "outputs": [
    {
     "name": "stdout",
     "output_type": "stream",
     "text": [
      "            area       pop     density\n",
      "Florida   170312  19552860  114.806121\n",
      "Illinois  149995  12882135   85.883763\n"
     ]
    }
   ],
   "source": [
    "print(data[1:3])"
   ]
  },
  {
   "cell_type": "code",
   "execution_count": 19,
   "metadata": {
    "collapsed": false
   },
   "outputs": [
    {
     "name": "stdout",
     "output_type": "stream",
     "text": [
      "            area       pop     density\n",
      "Florida   170312  19552860  114.806121\n",
      "New York  141297  19651127  139.076746\n"
     ]
    }
   ],
   "source": [
    "print(data[data.density > 100])"
   ]
  },
  {
   "cell_type": "code",
   "execution_count": 23,
   "metadata": {
    "collapsed": false
   },
   "outputs": [
    {
     "name": "stdout",
     "output_type": "stream",
     "text": [
      "            area       pop     density\n",
      "Florida   170312  19552860  114.806121\n",
      "New York  141297  19651127  139.076746\n"
     ]
    }
   ],
   "source": [
    "print(data[data['density'] > 100])"
   ]
  },
  {
   "cell_type": "code",
   "execution_count": 25,
   "metadata": {
    "collapsed": false
   },
   "outputs": [
    {
     "name": "stdout",
     "output_type": "stream",
     "text": [
      "         California     Florida   Illinois    New York     Texas\n",
      "density        90.0  114.806121  85.883763  139.076746  38.01874\n"
     ]
    }
   ],
   "source": [
    "try:\n",
    "    print(data[data['Florida'] < 1000])\n",
    "except:\n",
    "    data2 = data.T\n",
    "    print(data2[data2['Florida'] < 1000])"
   ]
  },
  {
   "cell_type": "code",
   "execution_count": null,
   "metadata": {
    "collapsed": true
   },
   "outputs": [],
   "source": []
  }
 ],
 "metadata": {
  "kernelspec": {
   "display_name": "Python 3",
   "language": "python",
   "name": "python3"
  },
  "language_info": {
   "codemirror_mode": {
    "name": "ipython",
    "version": 3
   },
   "file_extension": ".py",
   "mimetype": "text/x-python",
   "name": "python",
   "nbconvert_exporter": "python",
   "pygments_lexer": "ipython3",
   "version": "3.5.4"
  }
 },
 "nbformat": 4,
 "nbformat_minor": 2
}
