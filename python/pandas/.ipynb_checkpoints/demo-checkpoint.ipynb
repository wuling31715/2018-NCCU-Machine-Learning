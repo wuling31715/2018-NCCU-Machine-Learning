{
 "cells": [
  {
   "cell_type": "code",
   "execution_count": 21,
   "metadata": {
    "collapsed": false
   },
   "outputs": [
    {
     "name": "stdout",
     "output_type": "stream",
     "text": [
      "-----\n",
      "<body>\n",
      "-----\n",
      "    <title>Hello</title>\n",
      "<body>Hello World.</body>\n",
      "Hello World.\n"
     ]
    }
   ],
   "source": [
    "import sys\n",
    "sys_list = list()\n",
    "# for line in sys.stdin:\n",
    "#     sys_list.append(line)\n",
    "for i in range(5):\n",
    "    sys_list.append(input())\n",
    "tag_left = sys_list[1]\n",
    "tag_right = '</' + tag_left[1:-1] + '>' \n",
    "for i in sys_list[3:]:\n",
    "    if (tag_left in i) and (tag_right in i):\n",
    "        index_start = i.index(tag_left)\n",
    "        j = i[len(tag):]\n",
    "        index_end = j.index(tag_right) + len(tag_left)\n",
    "        output = i[len(tag_left):index_end]\n",
    "        print(output)"
   ]
  },
  {
   "cell_type": "code",
   "execution_count": null,
   "metadata": {
    "collapsed": true
   },
   "outputs": [],
   "source": []
  }
 ],
 "metadata": {
  "kernelspec": {
   "display_name": "Python 3",
   "language": "python",
   "name": "python3"
  },
  "language_info": {
   "codemirror_mode": {
    "name": "ipython",
    "version": 3
   },
   "file_extension": ".py",
   "mimetype": "text/x-python",
   "name": "python",
   "nbconvert_exporter": "python",
   "pygments_lexer": "ipython3",
   "version": "3.5.4"
  }
 },
 "nbformat": 4,
 "nbformat_minor": 2
}
