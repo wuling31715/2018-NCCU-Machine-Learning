{
 "cells": [
  {
   "cell_type": "code",
   "execution_count": 2,
   "metadata": {},
   "outputs": [],
   "source": [
    "import numpy as np\n",
    "import pandas as pd"
   ]
  },
  {
   "cell_type": "code",
   "execution_count": 4,
   "metadata": {},
   "outputs": [
    {
     "data": {
      "text/html": [
       "<div>\n",
       "<style scoped>\n",
       "    .dataframe tbody tr th:only-of-type {\n",
       "        vertical-align: middle;\n",
       "    }\n",
       "\n",
       "    .dataframe tbody tr th {\n",
       "        vertical-align: top;\n",
       "    }\n",
       "\n",
       "    .dataframe thead th {\n",
       "        text-align: right;\n",
       "    }\n",
       "</style>\n",
       "<table border=\"1\" class=\"dataframe\">\n",
       "  <thead>\n",
       "    <tr style=\"text-align: right;\">\n",
       "      <th></th>\n",
       "      <th>humidity</th>\n",
       "      <th>play</th>\n",
       "    </tr>\n",
       "  </thead>\n",
       "  <tbody>\n",
       "    <tr>\n",
       "      <th>0</th>\n",
       "      <td>85</td>\n",
       "      <td>no</td>\n",
       "    </tr>\n",
       "    <tr>\n",
       "      <th>1</th>\n",
       "      <td>90</td>\n",
       "      <td>no</td>\n",
       "    </tr>\n",
       "    <tr>\n",
       "      <th>2</th>\n",
       "      <td>86</td>\n",
       "      <td>yes</td>\n",
       "    </tr>\n",
       "    <tr>\n",
       "      <th>3</th>\n",
       "      <td>96</td>\n",
       "      <td>yes</td>\n",
       "    </tr>\n",
       "    <tr>\n",
       "      <th>4</th>\n",
       "      <td>80</td>\n",
       "      <td>yes</td>\n",
       "    </tr>\n",
       "    <tr>\n",
       "      <th>5</th>\n",
       "      <td>70</td>\n",
       "      <td>no</td>\n",
       "    </tr>\n",
       "    <tr>\n",
       "      <th>6</th>\n",
       "      <td>65</td>\n",
       "      <td>yes</td>\n",
       "    </tr>\n",
       "    <tr>\n",
       "      <th>7</th>\n",
       "      <td>95</td>\n",
       "      <td>no</td>\n",
       "    </tr>\n",
       "    <tr>\n",
       "      <th>8</th>\n",
       "      <td>70</td>\n",
       "      <td>yes</td>\n",
       "    </tr>\n",
       "    <tr>\n",
       "      <th>9</th>\n",
       "      <td>80</td>\n",
       "      <td>yes</td>\n",
       "    </tr>\n",
       "    <tr>\n",
       "      <th>10</th>\n",
       "      <td>70</td>\n",
       "      <td>yes</td>\n",
       "    </tr>\n",
       "    <tr>\n",
       "      <th>11</th>\n",
       "      <td>90</td>\n",
       "      <td>yes</td>\n",
       "    </tr>\n",
       "    <tr>\n",
       "      <th>12</th>\n",
       "      <td>75</td>\n",
       "      <td>yes</td>\n",
       "    </tr>\n",
       "    <tr>\n",
       "      <th>13</th>\n",
       "      <td>91</td>\n",
       "      <td>no</td>\n",
       "    </tr>\n",
       "  </tbody>\n",
       "</table>\n",
       "</div>"
      ],
      "text/plain": [
       "    humidity play\n",
       "0         85   no\n",
       "1         90   no\n",
       "2         86  yes\n",
       "3         96  yes\n",
       "4         80  yes\n",
       "5         70   no\n",
       "6         65  yes\n",
       "7         95   no\n",
       "8         70  yes\n",
       "9         80  yes\n",
       "10        70  yes\n",
       "11        90  yes\n",
       "12        75  yes\n",
       "13        91   no"
      ]
     },
     "execution_count": 4,
     "metadata": {},
     "output_type": "execute_result"
    }
   ],
   "source": [
    "df = pd.read_csv('datasets/1.3.csv')\n",
    "df"
   ]
  },
  {
   "cell_type": "markdown",
   "metadata": {},
   "source": [
    "$ Entropy(D) = - \\sum_{i=1}^{m} p_i log_2 p_i $"
   ]
  },
  {
   "cell_type": "code",
   "execution_count": 37,
   "metadata": {},
   "outputs": [],
   "source": [
    "def get_entropy(yes, no, all):\n",
    "    E = -((yes/all * np.log2(yes/all)) + (no/all * np.log2(no/all)))\n",
    "    return E"
   ]
  },
  {
   "cell_type": "code",
   "execution_count": 56,
   "metadata": {},
   "outputs": [
    {
     "name": "stdout",
     "output_type": "stream",
     "text": [
      "Total Entropy = 0.940286\n"
     ]
    }
   ],
   "source": [
    "yes = len(df[df['play'] == 'yes'])\n",
    "no = len(df[df['play'] == 'no'])\n",
    "all = len(df)\n",
    "E = get_entropy(yes, no, all)\n",
    "print('Total Entropy = %f' % E)"
   ]
  },
  {
   "cell_type": "code",
   "execution_count": 67,
   "metadata": {},
   "outputs": [],
   "source": [
    "def get_gain_entropy(i):\n",
    "    print(i)\n",
    "    L_yes = len(df[(df['humidity'] < i) & (df['play'] == 'yes')])\n",
    "    L_no = len(df[(df['humidity'] < i) & (df['play'] == 'no')])\n",
    "    R_yes = len(df[(df['humidity'] >= i) & (df['play'] == 'yes')])\n",
    "    R_no = len(df[(df['humidity'] >= i) & (df['play'] == 'no')])\n",
    "    L_N = len(df[(df['humidity'] >= i)])\n",
    "    R_N = len(df[(df['humidity'] < i)])\n",
    "    N = len(df)\n",
    "    E_L = get_entropy(L_yes, L_no, L_N)\n",
    "    E_R = get_entropy(R_yes, R_no, R_N)\n",
    "    I = L_N/N * E_L + R_N/N * E_R\n",
    "    print('Information = %f' % I)\n",
    "    G = E - I\n",
    "    print('Information Gain = %f' % G)"
   ]
  },
  {
   "cell_type": "code",
   "execution_count": 68,
   "metadata": {},
   "outputs": [
    {
     "name": "stdout",
     "output_type": "stream",
     "text": [
      "85\n",
      "Information = 0.788450\n",
      "Information Gain = 0.151836\n",
      "\n",
      "90\n",
      "Information = 0.595758\n",
      "Information Gain = 0.344528\n",
      "\n",
      "86\n",
      "Information = 0.832868\n",
      "Information Gain = 0.107418\n",
      "\n",
      "96\n",
      "Information = nan\n",
      "Information Gain = nan\n",
      "\n",
      "80\n",
      "Information = 0.652667\n",
      "Information Gain = 0.287619\n",
      "\n",
      "70\n",
      "Information = nan\n",
      "Information Gain = nan\n",
      "\n",
      "65\n",
      "\n",
      "95\n",
      "Information = -0.916434\n",
      "Information Gain = 1.856720\n",
      "\n",
      "70\n",
      "Information = nan\n",
      "Information Gain = nan\n",
      "\n",
      "80\n",
      "Information = 0.652667\n",
      "Information Gain = 0.287619\n",
      "\n",
      "70\n",
      "Information = nan\n",
      "Information Gain = nan\n",
      "\n",
      "90\n",
      "Information = 0.595758\n",
      "Information Gain = 0.344528\n",
      "\n",
      "75\n",
      "Information = 0.358789\n",
      "Information Gain = 0.581497\n",
      "\n",
      "91\n",
      "Information = -0.210143\n",
      "Information Gain = 1.150429\n",
      "\n"
     ]
    },
    {
     "name": "stderr",
     "output_type": "stream",
     "text": [
      "/Users/DannyShau/anaconda/envs/py3.5/lib/python3.5/site-packages/ipykernel_launcher.py:2: RuntimeWarning: divide by zero encountered in log2\n",
      "  \n",
      "/Users/DannyShau/anaconda/envs/py3.5/lib/python3.5/site-packages/ipykernel_launcher.py:2: RuntimeWarning: invalid value encountered in double_scalars\n",
      "  \n"
     ]
    }
   ],
   "source": [
    "for i in df['humidity']:\n",
    "    try:\n",
    "        get_gain_entropy(i)\n",
    "        print()\n",
    "    except:\n",
    "        print()"
   ]
  },
  {
   "cell_type": "code",
   "execution_count": null,
   "metadata": {},
   "outputs": [],
   "source": []
  }
 ],
 "metadata": {
  "kernelspec": {
   "display_name": "Python 3",
   "language": "python",
   "name": "python3"
  },
  "language_info": {
   "codemirror_mode": {
    "name": "ipython",
    "version": 3
   },
   "file_extension": ".py",
   "mimetype": "text/x-python",
   "name": "python",
   "nbconvert_exporter": "python",
   "pygments_lexer": "ipython3",
   "version": "3.5.4"
  }
 },
 "nbformat": 4,
 "nbformat_minor": 2
}
